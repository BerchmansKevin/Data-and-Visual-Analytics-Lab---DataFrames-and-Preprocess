{
 "cells": [
  {
   "cell_type": "markdown",
   "id": "60159681",
   "metadata": {},
   "source": [
    "## BERCHMANS KEVIN \n",
    "\n"
   ]
  },
  {
   "cell_type": "markdown",
   "id": "944f28bf",
   "metadata": {},
   "source": [
    "## ``Department of Data Science - Data and Visual Analytics Lab``"
   ]
  },
  {
   "cell_type": "markdown",
   "id": "eea99ce0",
   "metadata": {},
   "source": [
    "# ``Numpy & Pandas``"
   ]
  },
  {
   "cell_type": "markdown",
   "id": "eb202b06",
   "metadata": {},
   "source": [
    "## `Import CSV file into DataFrames and Preprocess that dataset`"
   ]
  },
  {
   "cell_type": "markdown",
   "id": "ca5cf97c",
   "metadata": {},
   "source": [
    "# Numpy"
   ]
  },
  {
   "cell_type": "code",
   "execution_count": 1,
   "id": "576d8148",
   "metadata": {},
   "outputs": [],
   "source": [
    "import numpy as np"
   ]
  },
  {
   "cell_type": "code",
   "execution_count": 2,
   "id": "f5242958",
   "metadata": {},
   "outputs": [],
   "source": [
    "bk=np.genfromtxt(\"CA_01 Assignment-(215229107).csv\",delimiter=',',dtype=str,skip_header=0)  "
   ]
  },
  {
   "cell_type": "code",
   "execution_count": 3,
   "id": "94a16eb7",
   "metadata": {},
   "outputs": [
    {
     "data": {
      "text/plain": [
       "array([['S.No', 'Name', 'Gender', 'Age', 'Weight', 'Height'],\n",
       "       ['1', 'Muhammad Fernado Ganesan K', 'Male', '85', '87', '190'],\n",
       "       ['2', 'Berchmans S', 'Male', '23', '80', '180'],\n",
       "       ['3', 'Jacksparrow P', 'Male', '62', '', '168'],\n",
       "       ['4', 'Mia Elizabeth Ruby D ', 'Female', '20', '56', ''],\n",
       "       ['5', 'Catherine Lolita G', 'Female', '30', '53', '150'],\n",
       "       ['6', 'Johny Depp T', 'Male', '54', '110', '159'],\n",
       "       ['7', 'Velan R', 'Male', '13', '28', '140'],\n",
       "       ['8', 'Jothika Jancy W', 'Female', '43', '88', '164'],\n",
       "       ['9', 'Vimalkan G', 'Male', '65', '95', '175'],\n",
       "       ['10', 'Devi T', 'Female', '19', '60', '146'],\n",
       "       ['11', 'Priya V', 'Female', '68', '100', '190'],\n",
       "       ['12', 'Jaya Surya F', 'Male', '90', '61', '205'],\n",
       "       ['13', 'Andrew Princily B', 'Female', '28', '45', '185'],\n",
       "       ['14', 'Zafir E', 'Male', '36', '72', '175'],\n",
       "       ['15', 'Jafar David Murugan A', 'Male', '110', '70', '180'],\n",
       "       ['16', 'Lily Jasmin Durga I', 'Female', '35', '110', '199'],\n",
       "       ['17', 'Victoria Rani N', 'Female', '58', '87', '173'],\n",
       "       ['18', 'Karthikeyan L', 'Male', '44', '150', '130'],\n",
       "       ['19', 'Diya Aruna K', 'Female', '34', '130', '197'],\n",
       "       ['20', 'Amala Santhiya S', 'Female', '59', '87', '180'],\n",
       "       ['21', 'Mei Mohan R', 'Male', '25', '76', '176'],\n",
       "       ['22', 'Nitra Meena H', 'Female', '70', '57', '217'],\n",
       "       ['23', 'Edwin Starjan D', 'Male', '12', '32', '130'],\n",
       "       ['24', 'Divya Bharadhi M', 'Female', '27', '60', '169'],\n",
       "       ['25', 'Deepika Mary R', 'Female', '75', '49', '147'],\n",
       "       ['26', 'Ezhil Manna Frindo U', 'Male', '95', '113', '189'],\n",
       "       ['27', 'Infant Ismail Hasan J', 'Male', '115', '90', '174'],\n",
       "       ['28', 'Jerlin Jepa F', 'Female', '35', '69', '160'],\n",
       "       ['29', 'Alex Anto C', 'Male', '25', '97', '190'],\n",
       "       ['30', 'Joni Santhosh Raj J', 'Male', '27', '79', '179'],\n",
       "       ['31', 'Esther Mary S', 'Female', '23', '73', '189'],\n",
       "       ['32', 'Julian Kural Ovien K ', 'Male', '26', '89', '198'],\n",
       "       ['33', 'Pushpa O', 'Female', '31', '77', '189'],\n",
       "       ['34', 'Antony Manibal Shareef B', 'Male', '28', '118', '220'],\n",
       "       ['35', 'Dinesh Kumar R', 'Male', '80', '96', '190']], dtype='<U26')"
      ]
     },
     "execution_count": 3,
     "metadata": {},
     "output_type": "execute_result"
    }
   ],
   "source": [
    "bk"
   ]
  },
  {
   "cell_type": "markdown",
   "id": "d6343ebd",
   "metadata": {},
   "source": [
    "#### Size"
   ]
  },
  {
   "cell_type": "code",
   "execution_count": 4,
   "id": "6a87c943",
   "metadata": {},
   "outputs": [
    {
     "data": {
      "text/plain": [
       "(36, 6)"
      ]
     },
     "execution_count": 4,
     "metadata": {},
     "output_type": "execute_result"
    }
   ],
   "source": [
    "np.shape(bk)"
   ]
  },
  {
   "cell_type": "markdown",
   "id": "5b705896",
   "metadata": {},
   "source": [
    "#### Data rows here"
   ]
  },
  {
   "cell_type": "code",
   "execution_count": 5,
   "id": "b5e7ca83",
   "metadata": {},
   "outputs": [
    {
     "data": {
      "text/plain": [
       "36"
      ]
     },
     "execution_count": 5,
     "metadata": {},
     "output_type": "execute_result"
    }
   ],
   "source": [
    "np.shape(bk)[0]"
   ]
  },
  {
   "cell_type": "markdown",
   "id": "2649ead3",
   "metadata": {},
   "source": [
    "#### Data columns here"
   ]
  },
  {
   "cell_type": "code",
   "execution_count": 6,
   "id": "b953d201",
   "metadata": {},
   "outputs": [
    {
     "data": {
      "text/plain": [
       "6"
      ]
     },
     "execution_count": 6,
     "metadata": {},
     "output_type": "execute_result"
    }
   ],
   "source": [
    "np.shape(bk)[1]"
   ]
  },
  {
   "cell_type": "markdown",
   "id": "6b776d9c",
   "metadata": {},
   "source": [
    "#### Dimensions"
   ]
  },
  {
   "cell_type": "code",
   "execution_count": 7,
   "id": "8fedcead",
   "metadata": {},
   "outputs": [
    {
     "data": {
      "text/plain": [
       "2"
      ]
     },
     "execution_count": 7,
     "metadata": {},
     "output_type": "execute_result"
    }
   ],
   "source": [
    "bk.ndim"
   ]
  },
  {
   "cell_type": "code",
   "execution_count": 8,
   "id": "63ad10b4",
   "metadata": {},
   "outputs": [
    {
     "data": {
      "text/plain": [
       "2"
      ]
     },
     "execution_count": 8,
     "metadata": {},
     "output_type": "execute_result"
    }
   ],
   "source": [
    "np.ndim(bk)"
   ]
  },
  {
   "cell_type": "markdown",
   "id": "ae4f9552",
   "metadata": {},
   "source": [
    "#### Type"
   ]
  },
  {
   "cell_type": "code",
   "execution_count": 9,
   "id": "e3c7bc46",
   "metadata": {},
   "outputs": [
    {
     "data": {
      "text/plain": [
       "numpy.ndarray"
      ]
     },
     "execution_count": 9,
     "metadata": {},
     "output_type": "execute_result"
    }
   ],
   "source": [
    "type(bk)"
   ]
  },
  {
   "cell_type": "markdown",
   "id": "972fa4ac",
   "metadata": {},
   "source": [
    "#### DataType"
   ]
  },
  {
   "cell_type": "code",
   "execution_count": 10,
   "id": "041207b8",
   "metadata": {},
   "outputs": [
    {
     "data": {
      "text/plain": [
       "dtype('<U26')"
      ]
     },
     "execution_count": 10,
     "metadata": {},
     "output_type": "execute_result"
    }
   ],
   "source": [
    "bk.dtype"
   ]
  },
  {
   "cell_type": "markdown",
   "id": "eb5e7702",
   "metadata": {},
   "source": [
    "#### Show top 6 rows"
   ]
  },
  {
   "cell_type": "code",
   "execution_count": 11,
   "id": "83f47b7c",
   "metadata": {},
   "outputs": [
    {
     "data": {
      "text/plain": [
       "array([['S.No', 'Name', 'Gender', 'Age', 'Weight', 'Height'],\n",
       "       ['1', 'Muhammad Fernado Ganesan K', 'Male', '85', '87', '190'],\n",
       "       ['2', 'Berchmans S', 'Male', '23', '80', '180'],\n",
       "       ['3', 'Jacksparrow P', 'Male', '62', '', '168'],\n",
       "       ['4', 'Mia Elizabeth Ruby D ', 'Female', '20', '56', '']],\n",
       "      dtype='<U26')"
      ]
     },
     "execution_count": 11,
     "metadata": {},
     "output_type": "execute_result"
    }
   ],
   "source": [
    "bk[:5]"
   ]
  },
  {
   "cell_type": "markdown",
   "id": "ff885e96",
   "metadata": {},
   "source": [
    "#### Select first 3 items in 4th column"
   ]
  },
  {
   "cell_type": "code",
   "execution_count": 12,
   "id": "4b327fa5",
   "metadata": {},
   "outputs": [
    {
     "data": {
      "text/plain": [
       "array(['Age', '85', '23'], dtype='<U26')"
      ]
     },
     "execution_count": 12,
     "metadata": {},
     "output_type": "execute_result"
    }
   ],
   "source": [
    "bk[:3,3]"
   ]
  },
  {
   "cell_type": "markdown",
   "id": "540b9aba",
   "metadata": {},
   "source": [
    "#### Select first item in first all column"
   ]
  },
  {
   "cell_type": "code",
   "execution_count": 13,
   "id": "84abdf00",
   "metadata": {},
   "outputs": [
    {
     "data": {
      "text/plain": [
       "array(['S.No', 'Name', 'Gender', 'Age', 'Weight', 'Height'], dtype='<U26')"
      ]
     },
     "execution_count": 13,
     "metadata": {},
     "output_type": "execute_result"
    }
   ],
   "source": [
    "bk[0,:]"
   ]
  },
  {
   "cell_type": "markdown",
   "id": "896355aa",
   "metadata": {},
   "source": [
    "#### Show 3rd Row"
   ]
  },
  {
   "cell_type": "code",
   "execution_count": 14,
   "id": "1e21ae12",
   "metadata": {},
   "outputs": [
    {
     "data": {
      "text/plain": [
       "array(['2', 'Berchmans S', 'Male', '23', '80', '180'], dtype='<U26')"
      ]
     },
     "execution_count": 14,
     "metadata": {},
     "output_type": "execute_result"
    }
   ],
   "source": [
    "bk[2]"
   ]
  },
  {
   "cell_type": "markdown",
   "id": "63dc69cb",
   "metadata": {},
   "source": [
    "#### Show 1st Column"
   ]
  },
  {
   "cell_type": "code",
   "execution_count": 15,
   "id": "f3b52bda",
   "metadata": {},
   "outputs": [
    {
     "data": {
      "text/plain": [
       "array(['S.No', '1', '2', '3', '4', '5', '6', '7', '8', '9', '10', '11',\n",
       "       '12', '13', '14', '15', '16', '17', '18', '19', '20', '21', '22',\n",
       "       '23', '24', '25', '26', '27', '28', '29', '30', '31', '32', '33',\n",
       "       '34', '35'], dtype='<U26')"
      ]
     },
     "execution_count": 15,
     "metadata": {},
     "output_type": "execute_result"
    }
   ],
   "source": [
    "bk[:,0]"
   ]
  },
  {
   "cell_type": "markdown",
   "id": "9308c358",
   "metadata": {},
   "source": [
    "#### Show 2nd Column"
   ]
  },
  {
   "cell_type": "code",
   "execution_count": 16,
   "id": "42e4edbd",
   "metadata": {},
   "outputs": [
    {
     "data": {
      "text/plain": [
       "array(['Name', 'Muhammad Fernado Ganesan K', 'Berchmans S',\n",
       "       'Jacksparrow P', 'Mia Elizabeth Ruby D ', 'Catherine Lolita G',\n",
       "       'Johny Depp T', 'Velan R', 'Jothika Jancy W', 'Vimalkan G',\n",
       "       'Devi T', 'Priya V', 'Jaya Surya F', 'Andrew Princily B',\n",
       "       'Zafir E', 'Jafar David Murugan A', 'Lily Jasmin Durga I',\n",
       "       'Victoria Rani N', 'Karthikeyan L', 'Diya Aruna K',\n",
       "       'Amala Santhiya S', 'Mei Mohan R', 'Nitra Meena H',\n",
       "       'Edwin Starjan D', 'Divya Bharadhi M', 'Deepika Mary R',\n",
       "       'Ezhil Manna Frindo U', 'Infant Ismail Hasan J', 'Jerlin Jepa F',\n",
       "       'Alex Anto C', 'Joni Santhosh Raj J', 'Esther Mary S',\n",
       "       'Julian Kural Ovien K ', 'Pushpa O', 'Antony Manibal Shareef B',\n",
       "       'Dinesh Kumar R'], dtype='<U26')"
      ]
     },
     "execution_count": 16,
     "metadata": {},
     "output_type": "execute_result"
    }
   ],
   "source": [
    "bk[:,1]"
   ]
  },
  {
   "cell_type": "markdown",
   "id": "75e249d3",
   "metadata": {},
   "source": [
    "#### Show 3rd Column"
   ]
  },
  {
   "cell_type": "code",
   "execution_count": 17,
   "id": "ee8634e2",
   "metadata": {},
   "outputs": [
    {
     "data": {
      "text/plain": [
       "array(['Gender', 'Male', 'Male', 'Male', 'Female', 'Female', 'Male',\n",
       "       'Male', 'Female', 'Male', 'Female', 'Female', 'Male', 'Female',\n",
       "       'Male', 'Male', 'Female', 'Female', 'Male', 'Female', 'Female',\n",
       "       'Male', 'Female', 'Male', 'Female', 'Female', 'Male', 'Male',\n",
       "       'Female', 'Male', 'Male', 'Female', 'Male', 'Female', 'Male',\n",
       "       'Male'], dtype='<U26')"
      ]
     },
     "execution_count": 17,
     "metadata": {},
     "output_type": "execute_result"
    }
   ],
   "source": [
    "bk[:,2]"
   ]
  },
  {
   "cell_type": "markdown",
   "id": "33ea58e0",
   "metadata": {},
   "source": [
    "#### Show 4th Column"
   ]
  },
  {
   "cell_type": "code",
   "execution_count": 18,
   "id": "8dc6db8d",
   "metadata": {},
   "outputs": [
    {
     "data": {
      "text/plain": [
       "array(['Age', '85', '23', '62', '20', '30', '54', '13', '43', '65', '19',\n",
       "       '68', '90', '28', '36', '110', '35', '58', '44', '34', '59', '25',\n",
       "       '70', '12', '27', '75', '95', '115', '35', '25', '27', '23', '26',\n",
       "       '31', '28', '80'], dtype='<U26')"
      ]
     },
     "execution_count": 18,
     "metadata": {},
     "output_type": "execute_result"
    }
   ],
   "source": [
    "bk[:,3]"
   ]
  },
  {
   "cell_type": "markdown",
   "id": "6c375186",
   "metadata": {},
   "source": [
    "#### Show 5th Column"
   ]
  },
  {
   "cell_type": "code",
   "execution_count": 19,
   "id": "da103e89",
   "metadata": {},
   "outputs": [
    {
     "data": {
      "text/plain": [
       "array(['Weight', '87', '80', '', '56', '53', '110', '28', '88', '95',\n",
       "       '60', '100', '61', '45', '72', '70', '110', '87', '150', '130',\n",
       "       '87', '76', '57', '32', '60', '49', '113', '90', '69', '97', '79',\n",
       "       '73', '89', '77', '118', '96'], dtype='<U26')"
      ]
     },
     "execution_count": 19,
     "metadata": {},
     "output_type": "execute_result"
    }
   ],
   "source": [
    "bk[:,4]"
   ]
  },
  {
   "cell_type": "markdown",
   "id": "b6abe52a",
   "metadata": {},
   "source": [
    "#### Shoe 6th Column"
   ]
  },
  {
   "cell_type": "code",
   "execution_count": 20,
   "id": "a04c3e4d",
   "metadata": {},
   "outputs": [
    {
     "data": {
      "text/plain": [
       "array(['Height', '190', '180', '168', '', '150', '159', '140', '164',\n",
       "       '175', '146', '190', '205', '185', '175', '180', '199', '173',\n",
       "       '130', '197', '180', '176', '217', '130', '169', '147', '189',\n",
       "       '174', '160', '190', '179', '189', '198', '189', '220', '190'],\n",
       "      dtype='<U26')"
      ]
     },
     "execution_count": 20,
     "metadata": {},
     "output_type": "execute_result"
    }
   ],
   "source": [
    "bk[:,5]"
   ]
  },
  {
   "cell_type": "markdown",
   "id": "37e755dc",
   "metadata": {},
   "source": [
    "#### Show top 1 to 14 rows"
   ]
  },
  {
   "cell_type": "code",
   "execution_count": 21,
   "id": "58db0be1",
   "metadata": {},
   "outputs": [
    {
     "data": {
      "text/plain": [
       "array([['1', 'Muhammad Fernado Ganesan K', 'Male', '85', '87', '190'],\n",
       "       ['2', 'Berchmans S', 'Male', '23', '80', '180'],\n",
       "       ['3', 'Jacksparrow P', 'Male', '62', '', '168'],\n",
       "       ['4', 'Mia Elizabeth Ruby D ', 'Female', '20', '56', ''],\n",
       "       ['5', 'Catherine Lolita G', 'Female', '30', '53', '150'],\n",
       "       ['6', 'Johny Depp T', 'Male', '54', '110', '159'],\n",
       "       ['7', 'Velan R', 'Male', '13', '28', '140'],\n",
       "       ['8', 'Jothika Jancy W', 'Female', '43', '88', '164'],\n",
       "       ['9', 'Vimalkan G', 'Male', '65', '95', '175'],\n",
       "       ['10', 'Devi T', 'Female', '19', '60', '146'],\n",
       "       ['11', 'Priya V', 'Female', '68', '100', '190'],\n",
       "       ['12', 'Jaya Surya F', 'Male', '90', '61', '205'],\n",
       "       ['13', 'Andrew Princily B', 'Female', '28', '45', '185'],\n",
       "       ['14', 'Zafir E', 'Male', '36', '72', '175']], dtype='<U26')"
      ]
     },
     "execution_count": 21,
     "metadata": {},
     "output_type": "execute_result"
    }
   ],
   "source": [
    "bk[1:,:][:14,:]"
   ]
  },
  {
   "cell_type": "markdown",
   "id": "74f25119",
   "metadata": {},
   "source": [
    "#### Select entire array"
   ]
  },
  {
   "cell_type": "code",
   "execution_count": 22,
   "id": "4410693a",
   "metadata": {},
   "outputs": [
    {
     "data": {
      "text/plain": [
       "array([['S.No', 'Name', 'Gender', 'Age', 'Weight', 'Height'],\n",
       "       ['1', 'Muhammad Fernado Ganesan K', 'Male', '85', '87', '190'],\n",
       "       ['2', 'Berchmans S', 'Male', '23', '80', '180'],\n",
       "       ['3', 'Jacksparrow P', 'Male', '62', '', '168'],\n",
       "       ['4', 'Mia Elizabeth Ruby D ', 'Female', '20', '56', ''],\n",
       "       ['5', 'Catherine Lolita G', 'Female', '30', '53', '150'],\n",
       "       ['6', 'Johny Depp T', 'Male', '54', '110', '159'],\n",
       "       ['7', 'Velan R', 'Male', '13', '28', '140'],\n",
       "       ['8', 'Jothika Jancy W', 'Female', '43', '88', '164'],\n",
       "       ['9', 'Vimalkan G', 'Male', '65', '95', '175'],\n",
       "       ['10', 'Devi T', 'Female', '19', '60', '146'],\n",
       "       ['11', 'Priya V', 'Female', '68', '100', '190'],\n",
       "       ['12', 'Jaya Surya F', 'Male', '90', '61', '205'],\n",
       "       ['13', 'Andrew Princily B', 'Female', '28', '45', '185'],\n",
       "       ['14', 'Zafir E', 'Male', '36', '72', '175'],\n",
       "       ['15', 'Jafar David Murugan A', 'Male', '110', '70', '180'],\n",
       "       ['16', 'Lily Jasmin Durga I', 'Female', '35', '110', '199'],\n",
       "       ['17', 'Victoria Rani N', 'Female', '58', '87', '173'],\n",
       "       ['18', 'Karthikeyan L', 'Male', '44', '150', '130'],\n",
       "       ['19', 'Diya Aruna K', 'Female', '34', '130', '197'],\n",
       "       ['20', 'Amala Santhiya S', 'Female', '59', '87', '180'],\n",
       "       ['21', 'Mei Mohan R', 'Male', '25', '76', '176'],\n",
       "       ['22', 'Nitra Meena H', 'Female', '70', '57', '217'],\n",
       "       ['23', 'Edwin Starjan D', 'Male', '12', '32', '130'],\n",
       "       ['24', 'Divya Bharadhi M', 'Female', '27', '60', '169'],\n",
       "       ['25', 'Deepika Mary R', 'Female', '75', '49', '147'],\n",
       "       ['26', 'Ezhil Manna Frindo U', 'Male', '95', '113', '189'],\n",
       "       ['27', 'Infant Ismail Hasan J', 'Male', '115', '90', '174'],\n",
       "       ['28', 'Jerlin Jepa F', 'Female', '35', '69', '160'],\n",
       "       ['29', 'Alex Anto C', 'Male', '25', '97', '190'],\n",
       "       ['30', 'Joni Santhosh Raj J', 'Male', '27', '79', '179'],\n",
       "       ['31', 'Esther Mary S', 'Female', '23', '73', '189'],\n",
       "       ['32', 'Julian Kural Ovien K ', 'Male', '26', '89', '198'],\n",
       "       ['33', 'Pushpa O', 'Female', '31', '77', '189'],\n",
       "       ['34', 'Antony Manibal Shareef B', 'Male', '28', '118', '220'],\n",
       "       ['35', 'Dinesh Kumar R', 'Male', '80', '96', '190']], dtype='<U26')"
      ]
     },
     "execution_count": 22,
     "metadata": {},
     "output_type": "execute_result"
    }
   ],
   "source": [
    "bk[:]"
   ]
  },
  {
   "cell_type": "markdown",
   "id": "df78c7f6",
   "metadata": {},
   "source": [
    "#### Iterating Arrays Using nditer()"
   ]
  },
  {
   "cell_type": "code",
   "execution_count": 23,
   "id": "9ce2ed4d",
   "metadata": {},
   "outputs": [
    {
     "name": "stdout",
     "output_type": "stream",
     "text": [
      "S.No\n",
      "Name\n",
      "Gender\n",
      "Age\n",
      "Weight\n",
      "Height\n",
      "1\n",
      "Muhammad Fernado Ganesan K\n",
      "Male\n",
      "85\n",
      "87\n",
      "190\n",
      "2\n",
      "Berchmans S\n",
      "Male\n",
      "23\n",
      "80\n",
      "180\n",
      "3\n",
      "Jacksparrow P\n",
      "Male\n",
      "62\n",
      "\n",
      "168\n",
      "4\n",
      "Mia Elizabeth Ruby D \n",
      "Female\n",
      "20\n",
      "56\n",
      "\n",
      "5\n",
      "Catherine Lolita G\n",
      "Female\n",
      "30\n",
      "53\n",
      "150\n",
      "6\n",
      "Johny Depp T\n",
      "Male\n",
      "54\n",
      "110\n",
      "159\n",
      "7\n",
      "Velan R\n",
      "Male\n",
      "13\n",
      "28\n",
      "140\n",
      "8\n",
      "Jothika Jancy W\n",
      "Female\n",
      "43\n",
      "88\n",
      "164\n",
      "9\n",
      "Vimalkan G\n",
      "Male\n",
      "65\n",
      "95\n",
      "175\n",
      "10\n",
      "Devi T\n",
      "Female\n",
      "19\n",
      "60\n",
      "146\n",
      "11\n",
      "Priya V\n",
      "Female\n",
      "68\n",
      "100\n",
      "190\n",
      "12\n",
      "Jaya Surya F\n",
      "Male\n",
      "90\n",
      "61\n",
      "205\n",
      "13\n",
      "Andrew Princily B\n",
      "Female\n",
      "28\n",
      "45\n",
      "185\n",
      "14\n",
      "Zafir E\n",
      "Male\n",
      "36\n",
      "72\n",
      "175\n",
      "15\n",
      "Jafar David Murugan A\n",
      "Male\n",
      "110\n",
      "70\n",
      "180\n",
      "16\n",
      "Lily Jasmin Durga I\n",
      "Female\n",
      "35\n",
      "110\n",
      "199\n",
      "17\n",
      "Victoria Rani N\n",
      "Female\n",
      "58\n",
      "87\n",
      "173\n",
      "18\n",
      "Karthikeyan L\n",
      "Male\n",
      "44\n",
      "150\n",
      "130\n",
      "19\n",
      "Diya Aruna K\n",
      "Female\n",
      "34\n",
      "130\n",
      "197\n",
      "20\n",
      "Amala Santhiya S\n",
      "Female\n",
      "59\n",
      "87\n",
      "180\n",
      "21\n",
      "Mei Mohan R\n",
      "Male\n",
      "25\n",
      "76\n",
      "176\n",
      "22\n",
      "Nitra Meena H\n",
      "Female\n",
      "70\n",
      "57\n",
      "217\n",
      "23\n",
      "Edwin Starjan D\n",
      "Male\n",
      "12\n",
      "32\n",
      "130\n",
      "24\n",
      "Divya Bharadhi M\n",
      "Female\n",
      "27\n",
      "60\n",
      "169\n",
      "25\n",
      "Deepika Mary R\n",
      "Female\n",
      "75\n",
      "49\n",
      "147\n",
      "26\n",
      "Ezhil Manna Frindo U\n",
      "Male\n",
      "95\n",
      "113\n",
      "189\n",
      "27\n",
      "Infant Ismail Hasan J\n",
      "Male\n",
      "115\n",
      "90\n",
      "174\n",
      "28\n",
      "Jerlin Jepa F\n",
      "Female\n",
      "35\n",
      "69\n",
      "160\n",
      "29\n",
      "Alex Anto C\n",
      "Male\n",
      "25\n",
      "97\n",
      "190\n",
      "30\n",
      "Joni Santhosh Raj J\n",
      "Male\n",
      "27\n",
      "79\n",
      "179\n",
      "31\n",
      "Esther Mary S\n",
      "Female\n",
      "23\n",
      "73\n",
      "189\n",
      "32\n",
      "Julian Kural Ovien K \n",
      "Male\n",
      "26\n",
      "89\n",
      "198\n",
      "33\n",
      "Pushpa O\n",
      "Female\n",
      "31\n",
      "77\n",
      "189\n",
      "34\n",
      "Antony Manibal Shareef B\n",
      "Male\n",
      "28\n",
      "118\n",
      "220\n",
      "35\n",
      "Dinesh Kumar R\n",
      "Male\n",
      "80\n",
      "96\n",
      "190\n"
     ]
    }
   ],
   "source": [
    "for q in np.nditer(bk):\n",
    "    print(q)"
   ]
  },
  {
   "cell_type": "markdown",
   "id": "1b8766ec",
   "metadata": {},
   "source": [
    "#### 1 Dimensional Numpy Arrays\n",
    "   #### Select 5th row all columns and show it's 4th value"
   ]
  },
  {
   "cell_type": "code",
   "execution_count": 24,
   "id": "e4c2218b",
   "metadata": {},
   "outputs": [],
   "source": [
    "q1 = bk[4,:]"
   ]
  },
  {
   "cell_type": "code",
   "execution_count": 25,
   "id": "7c2c2334",
   "metadata": {},
   "outputs": [
    {
     "data": {
      "text/plain": [
       "array(['4', 'Mia Elizabeth Ruby D ', 'Female', '20', '56', ''],\n",
       "      dtype='<U26')"
      ]
     },
     "execution_count": 25,
     "metadata": {},
     "output_type": "execute_result"
    }
   ],
   "source": [
    "q1"
   ]
  },
  {
   "cell_type": "code",
   "execution_count": 26,
   "id": "c5467f3c",
   "metadata": {},
   "outputs": [
    {
     "data": {
      "text/plain": [
       "'20'"
      ]
     },
     "execution_count": 26,
     "metadata": {},
     "output_type": "execute_result"
    }
   ],
   "source": [
    "q1[3]"
   ]
  },
  {
   "cell_type": "markdown",
   "id": "496adf39",
   "metadata": {},
   "source": [
    "#### Convert to Integer values and Show"
   ]
  },
  {
   "cell_type": "code",
   "execution_count": 27,
   "id": "90ee6ed8",
   "metadata": {},
   "outputs": [],
   "source": [
    "q2 = bk[5,4].astype(int)"
   ]
  },
  {
   "cell_type": "code",
   "execution_count": 28,
   "id": "0fd904fb",
   "metadata": {},
   "outputs": [
    {
     "data": {
      "text/plain": [
       "53"
      ]
     },
     "execution_count": 28,
     "metadata": {},
     "output_type": "execute_result"
    }
   ],
   "source": [
    "q2"
   ]
  },
  {
   "cell_type": "markdown",
   "id": "fa274b59",
   "metadata": {},
   "source": [
    "#### Vectorization Operations"
   ]
  },
  {
   "cell_type": "markdown",
   "id": "df65ea24",
   "metadata": {},
   "source": [
    "#### Missing Values"
   ]
  },
  {
   "cell_type": "code",
   "execution_count": 29,
   "id": "a2a65a3b",
   "metadata": {},
   "outputs": [],
   "source": [
    "q4 = bk[3,:]\n",
    "\n",
    "q5 = bk[4,:]"
   ]
  },
  {
   "cell_type": "markdown",
   "id": "d8935f07",
   "metadata": {},
   "source": [
    "#### Fill the missing values"
   ]
  },
  {
   "cell_type": "code",
   "execution_count": 30,
   "id": "d27dc320",
   "metadata": {},
   "outputs": [],
   "source": [
    "q6 = bk[3,4] = 90"
   ]
  },
  {
   "cell_type": "code",
   "execution_count": 31,
   "id": "5fc25209",
   "metadata": {},
   "outputs": [
    {
     "data": {
      "text/plain": [
       "90"
      ]
     },
     "execution_count": 31,
     "metadata": {},
     "output_type": "execute_result"
    }
   ],
   "source": [
    "q6"
   ]
  },
  {
   "cell_type": "code",
   "execution_count": 32,
   "id": "908663d0",
   "metadata": {},
   "outputs": [],
   "source": [
    "q7 = bk[4,-1] = 182"
   ]
  },
  {
   "cell_type": "code",
   "execution_count": 33,
   "id": "fec09c18",
   "metadata": {},
   "outputs": [
    {
     "data": {
      "text/plain": [
       "182"
      ]
     },
     "execution_count": 33,
     "metadata": {},
     "output_type": "execute_result"
    }
   ],
   "source": [
    "q7"
   ]
  },
  {
   "cell_type": "markdown",
   "id": "2e913738",
   "metadata": {},
   "source": [
    "#### Display the q4 qnd q5"
   ]
  },
  {
   "cell_type": "code",
   "execution_count": 34,
   "id": "1a377a06",
   "metadata": {},
   "outputs": [
    {
     "data": {
      "text/plain": [
       "array(['3', 'Jacksparrow P', 'Male', '62', '90', '168'], dtype='<U26')"
      ]
     },
     "execution_count": 34,
     "metadata": {},
     "output_type": "execute_result"
    }
   ],
   "source": [
    "q4"
   ]
  },
  {
   "cell_type": "code",
   "execution_count": 35,
   "id": "e491c2f5",
   "metadata": {},
   "outputs": [
    {
     "data": {
      "text/plain": [
       "array(['4', 'Mia Elizabeth Ruby D ', 'Female', '20', '56', '182'],\n",
       "      dtype='<U26')"
      ]
     },
     "execution_count": 35,
     "metadata": {},
     "output_type": "execute_result"
    }
   ],
   "source": [
    "q5"
   ]
  },
  {
   "cell_type": "markdown",
   "id": "7ea8c11b",
   "metadata": {},
   "source": [
    "##### Aggregate Functions"
   ]
  },
  {
   "cell_type": "code",
   "execution_count": 36,
   "id": "1e753a6d",
   "metadata": {},
   "outputs": [
    {
     "data": {
      "text/plain": [
       "array([[ 85,  87, 190],\n",
       "       [ 23,  80, 180],\n",
       "       [ 62,  90, 168],\n",
       "       [ 20,  56, 182],\n",
       "       [ 30,  53, 150],\n",
       "       [ 54, 110, 159],\n",
       "       [ 13,  28, 140],\n",
       "       [ 43,  88, 164],\n",
       "       [ 65,  95, 175],\n",
       "       [ 19,  60, 146],\n",
       "       [ 68, 100, 190],\n",
       "       [ 90,  61, 205],\n",
       "       [ 28,  45, 185],\n",
       "       [ 36,  72, 175],\n",
       "       [110,  70, 180],\n",
       "       [ 35, 110, 199],\n",
       "       [ 58,  87, 173],\n",
       "       [ 44, 150, 130],\n",
       "       [ 34, 130, 197],\n",
       "       [ 59,  87, 180],\n",
       "       [ 25,  76, 176],\n",
       "       [ 70,  57, 217],\n",
       "       [ 12,  32, 130],\n",
       "       [ 27,  60, 169],\n",
       "       [ 75,  49, 147],\n",
       "       [ 95, 113, 189],\n",
       "       [115,  90, 174],\n",
       "       [ 35,  69, 160],\n",
       "       [ 25,  97, 190],\n",
       "       [ 27,  79, 179],\n",
       "       [ 23,  73, 189],\n",
       "       [ 26,  89, 198],\n",
       "       [ 31,  77, 189],\n",
       "       [ 28, 118, 220],\n",
       "       [ 80,  96, 190]])"
      ]
     },
     "execution_count": 36,
     "metadata": {},
     "output_type": "execute_result"
    }
   ],
   "source": [
    "bk[1:,3:].astype('int')"
   ]
  },
  {
   "cell_type": "code",
   "execution_count": 37,
   "id": "cafcc00e",
   "metadata": {},
   "outputs": [
    {
     "data": {
      "text/plain": [
       "220"
      ]
     },
     "execution_count": 37,
     "metadata": {},
     "output_type": "execute_result"
    }
   ],
   "source": [
    "bk[1:,3:].astype('int').max()"
   ]
  },
  {
   "cell_type": "code",
   "execution_count": 38,
   "id": "b9afe64e",
   "metadata": {},
   "outputs": [
    {
     "data": {
      "text/plain": [
       "12"
      ]
     },
     "execution_count": 38,
     "metadata": {},
     "output_type": "execute_result"
    }
   ],
   "source": [
    "bk[1:,3:].astype('int').min()"
   ]
  },
  {
   "cell_type": "code",
   "execution_count": 39,
   "id": "a415ad78",
   "metadata": {},
   "outputs": [
    {
     "data": {
      "text/plain": [
       "101.8"
      ]
     },
     "execution_count": 39,
     "metadata": {},
     "output_type": "execute_result"
    }
   ],
   "source": [
    "bk[1:,3:].astype('int').mean()"
   ]
  },
  {
   "cell_type": "code",
   "execution_count": 40,
   "id": "f8cd094c",
   "metadata": {},
   "outputs": [
    {
     "data": {
      "text/plain": [
       "array([ 47.71428571,  80.97142857, 176.71428571])"
      ]
     },
     "execution_count": 40,
     "metadata": {},
     "output_type": "execute_result"
    }
   ],
   "source": [
    "bk[1:,3:].astype('int').mean(axis=0)"
   ]
  },
  {
   "cell_type": "code",
   "execution_count": 41,
   "id": "a4fe3ce0",
   "metadata": {},
   "outputs": [
    {
     "data": {
      "text/plain": [
       "(35,)"
      ]
     },
     "execution_count": 41,
     "metadata": {},
     "output_type": "execute_result"
    }
   ],
   "source": [
    "bk[1:,3:].astype('int').mean(axis=1).shape"
   ]
  },
  {
   "cell_type": "code",
   "execution_count": 42,
   "id": "a1039f4c",
   "metadata": {},
   "outputs": [
    {
     "data": {
      "text/plain": [
       "array([120.66666667,  94.33333333, 106.66666667,  86.        ,\n",
       "        77.66666667, 107.66666667,  60.33333333,  98.33333333,\n",
       "       111.66666667,  75.        , 119.33333333, 118.66666667,\n",
       "        86.        ,  94.33333333, 120.        , 114.66666667,\n",
       "       106.        , 108.        , 120.33333333, 108.66666667,\n",
       "        92.33333333, 114.66666667,  58.        ,  85.33333333,\n",
       "        90.33333333, 132.33333333, 126.33333333,  88.        ,\n",
       "       104.        ,  95.        ,  95.        , 104.33333333,\n",
       "        99.        , 122.        , 122.        ])"
      ]
     },
     "execution_count": 42,
     "metadata": {},
     "output_type": "execute_result"
    }
   ],
   "source": [
    "bk[1:,3:].astype('int').mean(axis=1)"
   ]
  },
  {
   "cell_type": "code",
   "execution_count": 43,
   "id": "5ef46e6f",
   "metadata": {},
   "outputs": [
    {
     "data": {
      "text/plain": [
       "(35,)"
      ]
     },
     "execution_count": 43,
     "metadata": {},
     "output_type": "execute_result"
    }
   ],
   "source": [
    "bk[1:,3:].astype('int').mean(axis=1).shape"
   ]
  },
  {
   "cell_type": "code",
   "execution_count": 44,
   "id": "42c8eb3a",
   "metadata": {},
   "outputs": [
    {
     "data": {
      "text/plain": [
       "88.0"
      ]
     },
     "execution_count": 44,
     "metadata": {},
     "output_type": "execute_result"
    }
   ],
   "source": [
    "np.median(bk[1:,3:].astype('int'))"
   ]
  },
  {
   "cell_type": "code",
   "execution_count": 45,
   "id": "390e2b12",
   "metadata": {},
   "outputs": [
    {
     "data": {
      "text/plain": [
       "60.239901346912205"
      ]
     },
     "execution_count": 45,
     "metadata": {},
     "output_type": "execute_result"
    }
   ],
   "source": [
    "bk[1:,3:].astype('int').std()"
   ]
  },
  {
   "cell_type": "markdown",
   "id": "f99c38fe",
   "metadata": {},
   "source": [
    "#### Transpose"
   ]
  },
  {
   "cell_type": "code",
   "execution_count": 46,
   "id": "56ceb87c",
   "metadata": {},
   "outputs": [
    {
     "data": {
      "text/plain": [
       "array([['Age', '85', '23', '62', '20', '30', '54', '13', '43', '65',\n",
       "        '19', '68', '90', '28', '36', '110', '35', '58', '44', '34',\n",
       "        '59', '25', '70', '12', '27', '75', '95', '115', '35', '25',\n",
       "        '27', '23', '26', '31', '28', '80'],\n",
       "       ['Weight', '87', '80', '90', '56', '53', '110', '28', '88', '95',\n",
       "        '60', '100', '61', '45', '72', '70', '110', '87', '150', '130',\n",
       "        '87', '76', '57', '32', '60', '49', '113', '90', '69', '97',\n",
       "        '79', '73', '89', '77', '118', '96'],\n",
       "       ['Height', '190', '180', '168', '182', '150', '159', '140', '164',\n",
       "        '175', '146', '190', '205', '185', '175', '180', '199', '173',\n",
       "        '130', '197', '180', '176', '217', '130', '169', '147', '189',\n",
       "        '174', '160', '190', '179', '189', '198', '189', '220', '190']],\n",
       "      dtype='<U26')"
      ]
     },
     "execution_count": 46,
     "metadata": {},
     "output_type": "execute_result"
    }
   ],
   "source": [
    "bk[:,3:].transpose()"
   ]
  },
  {
   "cell_type": "code",
   "execution_count": 47,
   "id": "08713715",
   "metadata": {},
   "outputs": [
    {
     "data": {
      "text/plain": [
       "(6, 36)"
      ]
     },
     "execution_count": 47,
     "metadata": {},
     "output_type": "execute_result"
    }
   ],
   "source": [
    "np.transpose(bk).shape"
   ]
  },
  {
   "cell_type": "markdown",
   "id": "1b3d43ee",
   "metadata": {},
   "source": [
    "#### NumPy Array Comparisons "
   ]
  },
  {
   "cell_type": "code",
   "execution_count": 48,
   "id": "1a6d97c9",
   "metadata": {},
   "outputs": [
    {
     "data": {
      "text/plain": [
       "array([[False, False,  True],\n",
       "       [False, False,  True],\n",
       "       [False, False,  True],\n",
       "       [False, False,  True],\n",
       "       [False, False,  True],\n",
       "       [False,  True,  True],\n",
       "       [False, False,  True],\n",
       "       [False, False,  True],\n",
       "       [False, False,  True],\n",
       "       [False, False,  True],\n",
       "       [False, False,  True],\n",
       "       [False, False,  True],\n",
       "       [False, False,  True],\n",
       "       [False, False,  True],\n",
       "       [ True, False,  True],\n",
       "       [False,  True,  True],\n",
       "       [False, False,  True],\n",
       "       [False,  True,  True],\n",
       "       [False,  True,  True],\n",
       "       [False, False,  True],\n",
       "       [False, False,  True],\n",
       "       [False, False,  True],\n",
       "       [False, False,  True],\n",
       "       [False, False,  True],\n",
       "       [False, False,  True],\n",
       "       [False,  True,  True],\n",
       "       [ True, False,  True],\n",
       "       [False, False,  True],\n",
       "       [False, False,  True],\n",
       "       [False, False,  True],\n",
       "       [False, False,  True],\n",
       "       [False, False,  True],\n",
       "       [False, False,  True],\n",
       "       [False,  True,  True],\n",
       "       [False, False,  True]])"
      ]
     },
     "execution_count": 48,
     "metadata": {},
     "output_type": "execute_result"
    }
   ],
   "source": [
    "bk[1:,3:].astype(int) > 100"
   ]
  },
  {
   "cell_type": "code",
   "execution_count": 49,
   "id": "5e3874b7",
   "metadata": {},
   "outputs": [
    {
     "data": {
      "text/plain": [
       "array([[ True,  True,  True],\n",
       "       [False,  True,  True],\n",
       "       [ True,  True,  True],\n",
       "       [False,  True,  True],\n",
       "       [False, False,  True],\n",
       "       [False,  True,  True],\n",
       "       [False, False,  True],\n",
       "       [False,  True,  True],\n",
       "       [ True,  True,  True],\n",
       "       [False,  True,  True],\n",
       "       [ True,  True,  True],\n",
       "       [ True,  True,  True],\n",
       "       [False, False,  True],\n",
       "       [False,  True,  True],\n",
       "       [ True,  True,  True],\n",
       "       [False,  True,  True],\n",
       "       [ True,  True,  True],\n",
       "       [False,  True,  True],\n",
       "       [False,  True,  True],\n",
       "       [ True,  True,  True],\n",
       "       [False,  True,  True],\n",
       "       [ True,  True,  True],\n",
       "       [False, False,  True],\n",
       "       [False,  True,  True],\n",
       "       [ True, False,  True],\n",
       "       [ True,  True,  True],\n",
       "       [ True,  True,  True],\n",
       "       [False,  True,  True],\n",
       "       [False,  True,  True],\n",
       "       [False,  True,  True],\n",
       "       [False,  True,  True],\n",
       "       [False,  True,  True],\n",
       "       [False,  True,  True],\n",
       "       [False,  True,  True],\n",
       "       [ True,  True,  True]])"
      ]
     },
     "execution_count": 49,
     "metadata": {},
     "output_type": "execute_result"
    }
   ],
   "source": [
    "bk[1:,3:].astype(int) > 55"
   ]
  },
  {
   "cell_type": "code",
   "execution_count": 50,
   "id": "dd8a6020",
   "metadata": {},
   "outputs": [
    {
     "data": {
      "text/plain": [
       "array([[False, False, False],\n",
       "       [ True, False, False],\n",
       "       [False, False, False],\n",
       "       [ True, False, False],\n",
       "       [ True,  True, False],\n",
       "       [ True, False, False],\n",
       "       [ True,  True, False],\n",
       "       [ True, False, False],\n",
       "       [False, False, False],\n",
       "       [ True, False, False],\n",
       "       [False, False, False],\n",
       "       [False, False, False],\n",
       "       [ True,  True, False],\n",
       "       [ True, False, False],\n",
       "       [False, False, False],\n",
       "       [ True, False, False],\n",
       "       [False, False, False],\n",
       "       [ True, False, False],\n",
       "       [ True, False, False],\n",
       "       [False, False, False],\n",
       "       [ True, False, False],\n",
       "       [False, False, False],\n",
       "       [ True,  True, False],\n",
       "       [ True, False, False],\n",
       "       [False,  True, False],\n",
       "       [False, False, False],\n",
       "       [False, False, False],\n",
       "       [ True, False, False],\n",
       "       [ True, False, False],\n",
       "       [ True, False, False],\n",
       "       [ True, False, False],\n",
       "       [ True, False, False],\n",
       "       [ True, False, False],\n",
       "       [ True, False, False],\n",
       "       [False, False, False]])"
      ]
     },
     "execution_count": 50,
     "metadata": {},
     "output_type": "execute_result"
    }
   ],
   "source": [
    "bk[1:,3:].astype(int) < 55"
   ]
  },
  {
   "cell_type": "code",
   "execution_count": 51,
   "id": "2394b012",
   "metadata": {},
   "outputs": [
    {
     "data": {
      "text/plain": [
       "array([[ True,  True, False],\n",
       "       [ True,  True, False],\n",
       "       [ True,  True, False],\n",
       "       [ True,  True, False],\n",
       "       [ True,  True, False],\n",
       "       [ True, False, False],\n",
       "       [ True,  True, False],\n",
       "       [ True,  True, False],\n",
       "       [ True,  True, False],\n",
       "       [ True,  True, False],\n",
       "       [ True, False, False],\n",
       "       [ True,  True, False],\n",
       "       [ True,  True, False],\n",
       "       [ True,  True, False],\n",
       "       [False,  True, False],\n",
       "       [ True, False, False],\n",
       "       [ True,  True, False],\n",
       "       [ True, False, False],\n",
       "       [ True, False, False],\n",
       "       [ True,  True, False],\n",
       "       [ True,  True, False],\n",
       "       [ True,  True, False],\n",
       "       [ True,  True, False],\n",
       "       [ True,  True, False],\n",
       "       [ True,  True, False],\n",
       "       [ True, False, False],\n",
       "       [False,  True, False],\n",
       "       [ True,  True, False],\n",
       "       [ True,  True, False],\n",
       "       [ True,  True, False],\n",
       "       [ True,  True, False],\n",
       "       [ True,  True, False],\n",
       "       [ True,  True, False],\n",
       "       [ True, False, False],\n",
       "       [ True,  True, False]])"
      ]
     },
     "execution_count": 51,
     "metadata": {},
     "output_type": "execute_result"
    }
   ],
   "source": [
    "bk[1:,3:].astype(int) < 100"
   ]
  },
  {
   "cell_type": "markdown",
   "id": "7810a6c7",
   "metadata": {},
   "source": [
    "#### Convert wines data into 1D array "
   ]
  },
  {
   "cell_type": "code",
   "execution_count": 52,
   "id": "9f3235e5",
   "metadata": {},
   "outputs": [
    {
     "data": {
      "text/plain": [
       "array(['S.No', 'Name', 'Gender', 'Age', 'Weight', 'Height', '1',\n",
       "       'Muhammad Fernado Ganesan K', 'Male', '85', '87', '190', '2',\n",
       "       'Berchmans S', 'Male', '23', '80', '180', '3', 'Jacksparrow P',\n",
       "       'Male', '62', '90', '168', '4', 'Mia Elizabeth Ruby D ', 'Female',\n",
       "       '20', '56', '182', '5', 'Catherine Lolita G', 'Female', '30', '53',\n",
       "       '150', '6', 'Johny Depp T', 'Male', '54', '110', '159', '7',\n",
       "       'Velan R', 'Male', '13', '28', '140', '8', 'Jothika Jancy W',\n",
       "       'Female', '43', '88', '164', '9', 'Vimalkan G', 'Male', '65', '95',\n",
       "       '175', '10', 'Devi T', 'Female', '19', '60', '146', '11',\n",
       "       'Priya V', 'Female', '68', '100', '190', '12', 'Jaya Surya F',\n",
       "       'Male', '90', '61', '205', '13', 'Andrew Princily B', 'Female',\n",
       "       '28', '45', '185', '14', 'Zafir E', 'Male', '36', '72', '175',\n",
       "       '15', 'Jafar David Murugan A', 'Male', '110', '70', '180', '16',\n",
       "       'Lily Jasmin Durga I', 'Female', '35', '110', '199', '17',\n",
       "       'Victoria Rani N', 'Female', '58', '87', '173', '18',\n",
       "       'Karthikeyan L', 'Male', '44', '150', '130', '19', 'Diya Aruna K',\n",
       "       'Female', '34', '130', '197', '20', 'Amala Santhiya S', 'Female',\n",
       "       '59', '87', '180', '21', 'Mei Mohan R', 'Male', '25', '76', '176',\n",
       "       '22', 'Nitra Meena H', 'Female', '70', '57', '217', '23',\n",
       "       'Edwin Starjan D', 'Male', '12', '32', '130', '24',\n",
       "       'Divya Bharadhi M', 'Female', '27', '60', '169', '25',\n",
       "       'Deepika Mary R', 'Female', '75', '49', '147', '26',\n",
       "       'Ezhil Manna Frindo U', 'Male', '95', '113', '189', '27',\n",
       "       'Infant Ismail Hasan J', 'Male', '115', '90', '174', '28',\n",
       "       'Jerlin Jepa F', 'Female', '35', '69', '160', '29', 'Alex Anto C',\n",
       "       'Male', '25', '97', '190', '30', 'Joni Santhosh Raj J', 'Male',\n",
       "       '27', '79', '179', '31', 'Esther Mary S', 'Female', '23', '73',\n",
       "       '189', '32', 'Julian Kural Ovien K ', 'Male', '26', '89', '198',\n",
       "       '33', 'Pushpa O', 'Female', '31', '77', '189', '34',\n",
       "       'Antony Manibal Shareef B', 'Male', '28', '118', '220', '35',\n",
       "       'Dinesh Kumar R', 'Male', '80', '96', '190'], dtype='<U26')"
      ]
     },
     "execution_count": 52,
     "metadata": {},
     "output_type": "execute_result"
    }
   ],
   "source": [
    "bk.ravel()"
   ]
  },
  {
   "cell_type": "code",
   "execution_count": 53,
   "id": "da8b9178",
   "metadata": {},
   "outputs": [
    {
     "data": {
      "text/plain": [
       "(216,)"
      ]
     },
     "execution_count": 53,
     "metadata": {},
     "output_type": "execute_result"
    }
   ],
   "source": [
    "bk.ravel().shape"
   ]
  },
  {
   "cell_type": "markdown",
   "id": "b0f8fa9f",
   "metadata": {},
   "source": [
    "#### Sort Column Ascendind Order"
   ]
  },
  {
   "cell_type": "code",
   "execution_count": 54,
   "id": "9271334a",
   "metadata": {},
   "outputs": [
    {
     "data": {
      "text/plain": [
       "array([['190', '85', '87'],\n",
       "       ['180', '23', '80'],\n",
       "       ['168', '62', '90'],\n",
       "       ['182', '20', '56'],\n",
       "       ['150', '30', '53'],\n",
       "       ['110', '159', '54'],\n",
       "       ['13', '140', '28'],\n",
       "       ['164', '43', '88'],\n",
       "       ['175', '65', '95'],\n",
       "       ['146', '19', '60'],\n",
       "       ['100', '190', '68'],\n",
       "       ['205', '61', '90'],\n",
       "       ['185', '28', '45'],\n",
       "       ['175', '36', '72'],\n",
       "       ['110', '180', '70'],\n",
       "       ['110', '199', '35'],\n",
       "       ['173', '58', '87'],\n",
       "       ['130', '150', '44'],\n",
       "       ['130', '197', '34'],\n",
       "       ['180', '59', '87'],\n",
       "       ['176', '25', '76'],\n",
       "       ['217', '57', '70'],\n",
       "       ['12', '130', '32'],\n",
       "       ['169', '27', '60'],\n",
       "       ['147', '49', '75'],\n",
       "       ['113', '189', '95'],\n",
       "       ['115', '174', '90'],\n",
       "       ['160', '35', '69'],\n",
       "       ['190', '25', '97'],\n",
       "       ['179', '27', '79'],\n",
       "       ['189', '23', '73'],\n",
       "       ['198', '26', '89'],\n",
       "       ['189', '31', '77'],\n",
       "       ['118', '220', '28'],\n",
       "       ['190', '80', '96']], dtype='<U26')"
      ]
     },
     "execution_count": 54,
     "metadata": {},
     "output_type": "execute_result"
    }
   ],
   "source": [
    "np.sort(bk[1:,3:])"
   ]
  },
  {
   "cell_type": "markdown",
   "id": "8958986c",
   "metadata": {},
   "source": [
    "#### Make sorting to take place in-place "
   ]
  },
  {
   "cell_type": "code",
   "execution_count": 55,
   "id": "0067d3fc",
   "metadata": {},
   "outputs": [],
   "source": [
    "bk[1:,3:].sort()"
   ]
  },
  {
   "cell_type": "code",
   "execution_count": 56,
   "id": "6a036b0d",
   "metadata": {},
   "outputs": [
    {
     "data": {
      "text/plain": [
       "array([['190', '85', '87'],\n",
       "       ['180', '23', '80'],\n",
       "       ['168', '62', '90'],\n",
       "       ['182', '20', '56'],\n",
       "       ['150', '30', '53'],\n",
       "       ['110', '159', '54'],\n",
       "       ['13', '140', '28'],\n",
       "       ['164', '43', '88'],\n",
       "       ['175', '65', '95'],\n",
       "       ['146', '19', '60'],\n",
       "       ['100', '190', '68'],\n",
       "       ['205', '61', '90'],\n",
       "       ['185', '28', '45'],\n",
       "       ['175', '36', '72'],\n",
       "       ['110', '180', '70'],\n",
       "       ['110', '199', '35'],\n",
       "       ['173', '58', '87'],\n",
       "       ['130', '150', '44'],\n",
       "       ['130', '197', '34'],\n",
       "       ['180', '59', '87'],\n",
       "       ['176', '25', '76'],\n",
       "       ['217', '57', '70'],\n",
       "       ['12', '130', '32'],\n",
       "       ['169', '27', '60'],\n",
       "       ['147', '49', '75'],\n",
       "       ['113', '189', '95'],\n",
       "       ['115', '174', '90'],\n",
       "       ['160', '35', '69'],\n",
       "       ['190', '25', '97'],\n",
       "       ['179', '27', '79'],\n",
       "       ['189', '23', '73'],\n",
       "       ['198', '26', '89'],\n",
       "       ['189', '31', '77'],\n",
       "       ['118', '220', '28'],\n",
       "       ['190', '80', '96']], dtype='<U26')"
      ]
     },
     "execution_count": 56,
     "metadata": {},
     "output_type": "execute_result"
    }
   ],
   "source": [
    " bk[1:,3:]"
   ]
  },
  {
   "cell_type": "markdown",
   "id": "99311621",
   "metadata": {},
   "source": [
    "  "
   ]
  },
  {
   "cell_type": "markdown",
   "id": "9b505ca3",
   "metadata": {},
   "source": [
    "#### Save and Load "
   ]
  },
  {
   "cell_type": "code",
   "execution_count": 57,
   "id": "22613ce7",
   "metadata": {},
   "outputs": [],
   "source": [
    "np.save('Berchmans_Numpy',bk)"
   ]
  },
  {
   "cell_type": "code",
   "execution_count": 58,
   "id": "4972df0f",
   "metadata": {},
   "outputs": [
    {
     "data": {
      "text/plain": [
       "array([['S.No', 'Name', 'Gender', 'Age', 'Weight', 'Height'],\n",
       "       ['1', 'Muhammad Fernado Ganesan K', 'Male', '190', '85', '87'],\n",
       "       ['2', 'Berchmans S', 'Male', '180', '23', '80'],\n",
       "       ['3', 'Jacksparrow P', 'Male', '168', '62', '90'],\n",
       "       ['4', 'Mia Elizabeth Ruby D ', 'Female', '182', '20', '56'],\n",
       "       ['5', 'Catherine Lolita G', 'Female', '150', '30', '53'],\n",
       "       ['6', 'Johny Depp T', 'Male', '110', '159', '54'],\n",
       "       ['7', 'Velan R', 'Male', '13', '140', '28'],\n",
       "       ['8', 'Jothika Jancy W', 'Female', '164', '43', '88'],\n",
       "       ['9', 'Vimalkan G', 'Male', '175', '65', '95'],\n",
       "       ['10', 'Devi T', 'Female', '146', '19', '60'],\n",
       "       ['11', 'Priya V', 'Female', '100', '190', '68'],\n",
       "       ['12', 'Jaya Surya F', 'Male', '205', '61', '90'],\n",
       "       ['13', 'Andrew Princily B', 'Female', '185', '28', '45'],\n",
       "       ['14', 'Zafir E', 'Male', '175', '36', '72'],\n",
       "       ['15', 'Jafar David Murugan A', 'Male', '110', '180', '70'],\n",
       "       ['16', 'Lily Jasmin Durga I', 'Female', '110', '199', '35'],\n",
       "       ['17', 'Victoria Rani N', 'Female', '173', '58', '87'],\n",
       "       ['18', 'Karthikeyan L', 'Male', '130', '150', '44'],\n",
       "       ['19', 'Diya Aruna K', 'Female', '130', '197', '34'],\n",
       "       ['20', 'Amala Santhiya S', 'Female', '180', '59', '87'],\n",
       "       ['21', 'Mei Mohan R', 'Male', '176', '25', '76'],\n",
       "       ['22', 'Nitra Meena H', 'Female', '217', '57', '70'],\n",
       "       ['23', 'Edwin Starjan D', 'Male', '12', '130', '32'],\n",
       "       ['24', 'Divya Bharadhi M', 'Female', '169', '27', '60'],\n",
       "       ['25', 'Deepika Mary R', 'Female', '147', '49', '75'],\n",
       "       ['26', 'Ezhil Manna Frindo U', 'Male', '113', '189', '95'],\n",
       "       ['27', 'Infant Ismail Hasan J', 'Male', '115', '174', '90'],\n",
       "       ['28', 'Jerlin Jepa F', 'Female', '160', '35', '69'],\n",
       "       ['29', 'Alex Anto C', 'Male', '190', '25', '97'],\n",
       "       ['30', 'Joni Santhosh Raj J', 'Male', '179', '27', '79'],\n",
       "       ['31', 'Esther Mary S', 'Female', '189', '23', '73'],\n",
       "       ['32', 'Julian Kural Ovien K ', 'Male', '198', '26', '89'],\n",
       "       ['33', 'Pushpa O', 'Female', '189', '31', '77'],\n",
       "       ['34', 'Antony Manibal Shareef B', 'Male', '118', '220', '28'],\n",
       "       ['35', 'Dinesh Kumar R', 'Male', '190', '80', '96']], dtype='<U26')"
      ]
     },
     "execution_count": 58,
     "metadata": {},
     "output_type": "execute_result"
    }
   ],
   "source": [
    "c = np.load('Berchmans_Numpy.npy')\n",
    "c"
   ]
  },
  {
   "cell_type": "markdown",
   "id": "7761215c",
   "metadata": {},
   "source": [
    "## Pandas"
   ]
  },
  {
   "cell_type": "code",
   "execution_count": 59,
   "id": "90e3ce1f",
   "metadata": {},
   "outputs": [],
   "source": [
    "import pandas as pd"
   ]
  },
  {
   "cell_type": "code",
   "execution_count": 60,
   "id": "af65b533",
   "metadata": {},
   "outputs": [
    {
     "data": {
      "text/html": [
       "<div>\n",
       "<style scoped>\n",
       "    .dataframe tbody tr th:only-of-type {\n",
       "        vertical-align: middle;\n",
       "    }\n",
       "\n",
       "    .dataframe tbody tr th {\n",
       "        vertical-align: top;\n",
       "    }\n",
       "\n",
       "    .dataframe thead th {\n",
       "        text-align: right;\n",
       "    }\n",
       "</style>\n",
       "<table border=\"1\" class=\"dataframe\">\n",
       "  <thead>\n",
       "    <tr style=\"text-align: right;\">\n",
       "      <th></th>\n",
       "      <th>S.No</th>\n",
       "      <th>Name</th>\n",
       "      <th>Gender</th>\n",
       "      <th>Age</th>\n",
       "      <th>Weight</th>\n",
       "      <th>Height</th>\n",
       "    </tr>\n",
       "  </thead>\n",
       "  <tbody>\n",
       "    <tr>\n",
       "      <th>0</th>\n",
       "      <td>1</td>\n",
       "      <td>Muhammad Fernado Ganesan K</td>\n",
       "      <td>Male</td>\n",
       "      <td>85</td>\n",
       "      <td>87.0</td>\n",
       "      <td>190.0</td>\n",
       "    </tr>\n",
       "    <tr>\n",
       "      <th>1</th>\n",
       "      <td>2</td>\n",
       "      <td>Berchmans S</td>\n",
       "      <td>Male</td>\n",
       "      <td>23</td>\n",
       "      <td>80.0</td>\n",
       "      <td>180.0</td>\n",
       "    </tr>\n",
       "    <tr>\n",
       "      <th>2</th>\n",
       "      <td>3</td>\n",
       "      <td>Jacksparrow P</td>\n",
       "      <td>Male</td>\n",
       "      <td>62</td>\n",
       "      <td>NaN</td>\n",
       "      <td>168.0</td>\n",
       "    </tr>\n",
       "    <tr>\n",
       "      <th>3</th>\n",
       "      <td>4</td>\n",
       "      <td>Mia Elizabeth Ruby D</td>\n",
       "      <td>Female</td>\n",
       "      <td>20</td>\n",
       "      <td>56.0</td>\n",
       "      <td>NaN</td>\n",
       "    </tr>\n",
       "    <tr>\n",
       "      <th>4</th>\n",
       "      <td>5</td>\n",
       "      <td>Catherine Lolita G</td>\n",
       "      <td>Female</td>\n",
       "      <td>30</td>\n",
       "      <td>53.0</td>\n",
       "      <td>150.0</td>\n",
       "    </tr>\n",
       "    <tr>\n",
       "      <th>5</th>\n",
       "      <td>6</td>\n",
       "      <td>Johny Depp T</td>\n",
       "      <td>Male</td>\n",
       "      <td>54</td>\n",
       "      <td>110.0</td>\n",
       "      <td>159.0</td>\n",
       "    </tr>\n",
       "    <tr>\n",
       "      <th>6</th>\n",
       "      <td>7</td>\n",
       "      <td>Velan R</td>\n",
       "      <td>Male</td>\n",
       "      <td>13</td>\n",
       "      <td>28.0</td>\n",
       "      <td>140.0</td>\n",
       "    </tr>\n",
       "    <tr>\n",
       "      <th>7</th>\n",
       "      <td>8</td>\n",
       "      <td>Jothika Jancy W</td>\n",
       "      <td>Female</td>\n",
       "      <td>43</td>\n",
       "      <td>88.0</td>\n",
       "      <td>164.0</td>\n",
       "    </tr>\n",
       "    <tr>\n",
       "      <th>8</th>\n",
       "      <td>9</td>\n",
       "      <td>Vimalkan G</td>\n",
       "      <td>Male</td>\n",
       "      <td>65</td>\n",
       "      <td>95.0</td>\n",
       "      <td>175.0</td>\n",
       "    </tr>\n",
       "    <tr>\n",
       "      <th>9</th>\n",
       "      <td>10</td>\n",
       "      <td>Devi T</td>\n",
       "      <td>Female</td>\n",
       "      <td>19</td>\n",
       "      <td>60.0</td>\n",
       "      <td>146.0</td>\n",
       "    </tr>\n",
       "    <tr>\n",
       "      <th>10</th>\n",
       "      <td>11</td>\n",
       "      <td>Priya V</td>\n",
       "      <td>Female</td>\n",
       "      <td>68</td>\n",
       "      <td>100.0</td>\n",
       "      <td>190.0</td>\n",
       "    </tr>\n",
       "    <tr>\n",
       "      <th>11</th>\n",
       "      <td>12</td>\n",
       "      <td>Jaya Surya F</td>\n",
       "      <td>Male</td>\n",
       "      <td>90</td>\n",
       "      <td>61.0</td>\n",
       "      <td>205.0</td>\n",
       "    </tr>\n",
       "    <tr>\n",
       "      <th>12</th>\n",
       "      <td>13</td>\n",
       "      <td>Andrew Princily B</td>\n",
       "      <td>Female</td>\n",
       "      <td>28</td>\n",
       "      <td>45.0</td>\n",
       "      <td>185.0</td>\n",
       "    </tr>\n",
       "    <tr>\n",
       "      <th>13</th>\n",
       "      <td>14</td>\n",
       "      <td>Zafir E</td>\n",
       "      <td>Male</td>\n",
       "      <td>36</td>\n",
       "      <td>72.0</td>\n",
       "      <td>175.0</td>\n",
       "    </tr>\n",
       "    <tr>\n",
       "      <th>14</th>\n",
       "      <td>15</td>\n",
       "      <td>Jafar David Murugan A</td>\n",
       "      <td>Male</td>\n",
       "      <td>110</td>\n",
       "      <td>70.0</td>\n",
       "      <td>180.0</td>\n",
       "    </tr>\n",
       "    <tr>\n",
       "      <th>15</th>\n",
       "      <td>16</td>\n",
       "      <td>Lily Jasmin Durga I</td>\n",
       "      <td>Female</td>\n",
       "      <td>35</td>\n",
       "      <td>110.0</td>\n",
       "      <td>199.0</td>\n",
       "    </tr>\n",
       "    <tr>\n",
       "      <th>16</th>\n",
       "      <td>17</td>\n",
       "      <td>Victoria Rani N</td>\n",
       "      <td>Female</td>\n",
       "      <td>58</td>\n",
       "      <td>87.0</td>\n",
       "      <td>173.0</td>\n",
       "    </tr>\n",
       "    <tr>\n",
       "      <th>17</th>\n",
       "      <td>18</td>\n",
       "      <td>Karthikeyan L</td>\n",
       "      <td>Male</td>\n",
       "      <td>44</td>\n",
       "      <td>150.0</td>\n",
       "      <td>130.0</td>\n",
       "    </tr>\n",
       "    <tr>\n",
       "      <th>18</th>\n",
       "      <td>19</td>\n",
       "      <td>Diya Aruna K</td>\n",
       "      <td>Female</td>\n",
       "      <td>34</td>\n",
       "      <td>130.0</td>\n",
       "      <td>197.0</td>\n",
       "    </tr>\n",
       "    <tr>\n",
       "      <th>19</th>\n",
       "      <td>20</td>\n",
       "      <td>Amala Santhiya S</td>\n",
       "      <td>Female</td>\n",
       "      <td>59</td>\n",
       "      <td>87.0</td>\n",
       "      <td>180.0</td>\n",
       "    </tr>\n",
       "    <tr>\n",
       "      <th>20</th>\n",
       "      <td>21</td>\n",
       "      <td>Mei Mohan R</td>\n",
       "      <td>Male</td>\n",
       "      <td>25</td>\n",
       "      <td>76.0</td>\n",
       "      <td>176.0</td>\n",
       "    </tr>\n",
       "    <tr>\n",
       "      <th>21</th>\n",
       "      <td>22</td>\n",
       "      <td>Nitra Meena H</td>\n",
       "      <td>Female</td>\n",
       "      <td>70</td>\n",
       "      <td>57.0</td>\n",
       "      <td>217.0</td>\n",
       "    </tr>\n",
       "    <tr>\n",
       "      <th>22</th>\n",
       "      <td>23</td>\n",
       "      <td>Edwin Starjan D</td>\n",
       "      <td>Male</td>\n",
       "      <td>12</td>\n",
       "      <td>32.0</td>\n",
       "      <td>130.0</td>\n",
       "    </tr>\n",
       "    <tr>\n",
       "      <th>23</th>\n",
       "      <td>24</td>\n",
       "      <td>Divya Bharadhi M</td>\n",
       "      <td>Female</td>\n",
       "      <td>27</td>\n",
       "      <td>60.0</td>\n",
       "      <td>169.0</td>\n",
       "    </tr>\n",
       "    <tr>\n",
       "      <th>24</th>\n",
       "      <td>25</td>\n",
       "      <td>Deepika Mary R</td>\n",
       "      <td>Female</td>\n",
       "      <td>75</td>\n",
       "      <td>49.0</td>\n",
       "      <td>147.0</td>\n",
       "    </tr>\n",
       "    <tr>\n",
       "      <th>25</th>\n",
       "      <td>26</td>\n",
       "      <td>Ezhil Manna Frindo U</td>\n",
       "      <td>Male</td>\n",
       "      <td>95</td>\n",
       "      <td>113.0</td>\n",
       "      <td>189.0</td>\n",
       "    </tr>\n",
       "    <tr>\n",
       "      <th>26</th>\n",
       "      <td>27</td>\n",
       "      <td>Infant Ismail Hasan J</td>\n",
       "      <td>Male</td>\n",
       "      <td>115</td>\n",
       "      <td>90.0</td>\n",
       "      <td>174.0</td>\n",
       "    </tr>\n",
       "    <tr>\n",
       "      <th>27</th>\n",
       "      <td>28</td>\n",
       "      <td>Jerlin Jepa F</td>\n",
       "      <td>Female</td>\n",
       "      <td>35</td>\n",
       "      <td>69.0</td>\n",
       "      <td>160.0</td>\n",
       "    </tr>\n",
       "    <tr>\n",
       "      <th>28</th>\n",
       "      <td>29</td>\n",
       "      <td>Alex Anto C</td>\n",
       "      <td>Male</td>\n",
       "      <td>25</td>\n",
       "      <td>97.0</td>\n",
       "      <td>190.0</td>\n",
       "    </tr>\n",
       "    <tr>\n",
       "      <th>29</th>\n",
       "      <td>30</td>\n",
       "      <td>Joni Santhosh Raj J</td>\n",
       "      <td>Male</td>\n",
       "      <td>27</td>\n",
       "      <td>79.0</td>\n",
       "      <td>179.0</td>\n",
       "    </tr>\n",
       "    <tr>\n",
       "      <th>30</th>\n",
       "      <td>31</td>\n",
       "      <td>Esther Mary S</td>\n",
       "      <td>Female</td>\n",
       "      <td>23</td>\n",
       "      <td>73.0</td>\n",
       "      <td>189.0</td>\n",
       "    </tr>\n",
       "    <tr>\n",
       "      <th>31</th>\n",
       "      <td>32</td>\n",
       "      <td>Julian Kural Ovien K</td>\n",
       "      <td>Male</td>\n",
       "      <td>26</td>\n",
       "      <td>89.0</td>\n",
       "      <td>198.0</td>\n",
       "    </tr>\n",
       "    <tr>\n",
       "      <th>32</th>\n",
       "      <td>33</td>\n",
       "      <td>Pushpa O</td>\n",
       "      <td>Female</td>\n",
       "      <td>31</td>\n",
       "      <td>77.0</td>\n",
       "      <td>189.0</td>\n",
       "    </tr>\n",
       "    <tr>\n",
       "      <th>33</th>\n",
       "      <td>34</td>\n",
       "      <td>Antony Manibal Shareef B</td>\n",
       "      <td>Male</td>\n",
       "      <td>28</td>\n",
       "      <td>118.0</td>\n",
       "      <td>220.0</td>\n",
       "    </tr>\n",
       "    <tr>\n",
       "      <th>34</th>\n",
       "      <td>35</td>\n",
       "      <td>Dinesh Kumar R</td>\n",
       "      <td>Male</td>\n",
       "      <td>80</td>\n",
       "      <td>96.0</td>\n",
       "      <td>190.0</td>\n",
       "    </tr>\n",
       "  </tbody>\n",
       "</table>\n",
       "</div>"
      ],
      "text/plain": [
       "    S.No                        Name  Gender  Age  Weight  Height\n",
       "0      1  Muhammad Fernado Ganesan K    Male   85    87.0   190.0\n",
       "1      2                 Berchmans S    Male   23    80.0   180.0\n",
       "2      3               Jacksparrow P    Male   62     NaN   168.0\n",
       "3      4       Mia Elizabeth Ruby D   Female   20    56.0     NaN\n",
       "4      5          Catherine Lolita G  Female   30    53.0   150.0\n",
       "5      6                Johny Depp T    Male   54   110.0   159.0\n",
       "6      7                     Velan R    Male   13    28.0   140.0\n",
       "7      8             Jothika Jancy W  Female   43    88.0   164.0\n",
       "8      9                  Vimalkan G    Male   65    95.0   175.0\n",
       "9     10                      Devi T  Female   19    60.0   146.0\n",
       "10    11                     Priya V  Female   68   100.0   190.0\n",
       "11    12                Jaya Surya F    Male   90    61.0   205.0\n",
       "12    13           Andrew Princily B  Female   28    45.0   185.0\n",
       "13    14                     Zafir E    Male   36    72.0   175.0\n",
       "14    15       Jafar David Murugan A    Male  110    70.0   180.0\n",
       "15    16         Lily Jasmin Durga I  Female   35   110.0   199.0\n",
       "16    17             Victoria Rani N  Female   58    87.0   173.0\n",
       "17    18               Karthikeyan L    Male   44   150.0   130.0\n",
       "18    19                Diya Aruna K  Female   34   130.0   197.0\n",
       "19    20            Amala Santhiya S  Female   59    87.0   180.0\n",
       "20    21                 Mei Mohan R    Male   25    76.0   176.0\n",
       "21    22               Nitra Meena H  Female   70    57.0   217.0\n",
       "22    23             Edwin Starjan D    Male   12    32.0   130.0\n",
       "23    24            Divya Bharadhi M  Female   27    60.0   169.0\n",
       "24    25              Deepika Mary R  Female   75    49.0   147.0\n",
       "25    26        Ezhil Manna Frindo U    Male   95   113.0   189.0\n",
       "26    27       Infant Ismail Hasan J    Male  115    90.0   174.0\n",
       "27    28               Jerlin Jepa F  Female   35    69.0   160.0\n",
       "28    29                 Alex Anto C    Male   25    97.0   190.0\n",
       "29    30         Joni Santhosh Raj J    Male   27    79.0   179.0\n",
       "30    31               Esther Mary S  Female   23    73.0   189.0\n",
       "31    32       Julian Kural Ovien K     Male   26    89.0   198.0\n",
       "32    33                    Pushpa O  Female   31    77.0   189.0\n",
       "33    34    Antony Manibal Shareef B    Male   28   118.0   220.0\n",
       "34    35              Dinesh Kumar R    Male   80    96.0   190.0"
      ]
     },
     "execution_count": 60,
     "metadata": {},
     "output_type": "execute_result"
    }
   ],
   "source": [
    "bk_29 = pd.read_csv(\"CA_01 Assignment-(215229107).csv\")\n",
    "bk_29"
   ]
  },
  {
   "cell_type": "code",
   "execution_count": 61,
   "id": "d719bc64",
   "metadata": {},
   "outputs": [
    {
     "data": {
      "text/html": [
       "<div>\n",
       "<style scoped>\n",
       "    .dataframe tbody tr th:only-of-type {\n",
       "        vertical-align: middle;\n",
       "    }\n",
       "\n",
       "    .dataframe tbody tr th {\n",
       "        vertical-align: top;\n",
       "    }\n",
       "\n",
       "    .dataframe thead th {\n",
       "        text-align: right;\n",
       "    }\n",
       "</style>\n",
       "<table border=\"1\" class=\"dataframe\">\n",
       "  <thead>\n",
       "    <tr style=\"text-align: right;\">\n",
       "      <th></th>\n",
       "      <th>S.No</th>\n",
       "      <th>Name</th>\n",
       "      <th>Gender</th>\n",
       "      <th>Age</th>\n",
       "      <th>Weight</th>\n",
       "      <th>Height</th>\n",
       "    </tr>\n",
       "  </thead>\n",
       "  <tbody>\n",
       "    <tr>\n",
       "      <th>0</th>\n",
       "      <td>1</td>\n",
       "      <td>Muhammad Fernado Ganesan K</td>\n",
       "      <td>Male</td>\n",
       "      <td>85</td>\n",
       "      <td>87.0</td>\n",
       "      <td>190.0</td>\n",
       "    </tr>\n",
       "    <tr>\n",
       "      <th>1</th>\n",
       "      <td>2</td>\n",
       "      <td>Berchmans S</td>\n",
       "      <td>Male</td>\n",
       "      <td>23</td>\n",
       "      <td>80.0</td>\n",
       "      <td>180.0</td>\n",
       "    </tr>\n",
       "    <tr>\n",
       "      <th>2</th>\n",
       "      <td>3</td>\n",
       "      <td>Jacksparrow P</td>\n",
       "      <td>Male</td>\n",
       "      <td>62</td>\n",
       "      <td>NaN</td>\n",
       "      <td>168.0</td>\n",
       "    </tr>\n",
       "    <tr>\n",
       "      <th>3</th>\n",
       "      <td>4</td>\n",
       "      <td>Mia Elizabeth Ruby D</td>\n",
       "      <td>Female</td>\n",
       "      <td>20</td>\n",
       "      <td>56.0</td>\n",
       "      <td>NaN</td>\n",
       "    </tr>\n",
       "    <tr>\n",
       "      <th>4</th>\n",
       "      <td>5</td>\n",
       "      <td>Catherine Lolita G</td>\n",
       "      <td>Female</td>\n",
       "      <td>30</td>\n",
       "      <td>53.0</td>\n",
       "      <td>150.0</td>\n",
       "    </tr>\n",
       "  </tbody>\n",
       "</table>\n",
       "</div>"
      ],
      "text/plain": [
       "   S.No                        Name  Gender  Age  Weight  Height\n",
       "0     1  Muhammad Fernado Ganesan K    Male   85    87.0   190.0\n",
       "1     2                 Berchmans S    Male   23    80.0   180.0\n",
       "2     3               Jacksparrow P    Male   62     NaN   168.0\n",
       "3     4       Mia Elizabeth Ruby D   Female   20    56.0     NaN\n",
       "4     5          Catherine Lolita G  Female   30    53.0   150.0"
      ]
     },
     "execution_count": 61,
     "metadata": {},
     "output_type": "execute_result"
    }
   ],
   "source": [
    "bk_29.head()"
   ]
  },
  {
   "cell_type": "code",
   "execution_count": 62,
   "id": "5f99cc82",
   "metadata": {},
   "outputs": [
    {
     "data": {
      "text/plain": [
       "210"
      ]
     },
     "execution_count": 62,
     "metadata": {},
     "output_type": "execute_result"
    }
   ],
   "source": [
    "bk_29.size"
   ]
  },
  {
   "cell_type": "code",
   "execution_count": 63,
   "id": "94d3a56a",
   "metadata": {},
   "outputs": [
    {
     "data": {
      "text/plain": [
       "(35, 6)"
      ]
     },
     "execution_count": 63,
     "metadata": {},
     "output_type": "execute_result"
    }
   ],
   "source": [
    "bk_29.shape"
   ]
  },
  {
   "cell_type": "code",
   "execution_count": 64,
   "id": "67c31a50",
   "metadata": {},
   "outputs": [
    {
     "data": {
      "text/plain": [
       "Index(['S.No', 'Name', 'Gender', 'Age', 'Weight', 'Height'], dtype='object')"
      ]
     },
     "execution_count": 64,
     "metadata": {},
     "output_type": "execute_result"
    }
   ],
   "source": [
    "bk_29.columns"
   ]
  },
  {
   "cell_type": "code",
   "execution_count": 65,
   "id": "c7568b62",
   "metadata": {},
   "outputs": [
    {
     "data": {
      "text/plain": [
       "<bound method DataFrame.info of     S.No                        Name  Gender  Age  Weight  Height\n",
       "0      1  Muhammad Fernado Ganesan K    Male   85    87.0   190.0\n",
       "1      2                 Berchmans S    Male   23    80.0   180.0\n",
       "2      3               Jacksparrow P    Male   62     NaN   168.0\n",
       "3      4       Mia Elizabeth Ruby D   Female   20    56.0     NaN\n",
       "4      5          Catherine Lolita G  Female   30    53.0   150.0\n",
       "5      6                Johny Depp T    Male   54   110.0   159.0\n",
       "6      7                     Velan R    Male   13    28.0   140.0\n",
       "7      8             Jothika Jancy W  Female   43    88.0   164.0\n",
       "8      9                  Vimalkan G    Male   65    95.0   175.0\n",
       "9     10                      Devi T  Female   19    60.0   146.0\n",
       "10    11                     Priya V  Female   68   100.0   190.0\n",
       "11    12                Jaya Surya F    Male   90    61.0   205.0\n",
       "12    13           Andrew Princily B  Female   28    45.0   185.0\n",
       "13    14                     Zafir E    Male   36    72.0   175.0\n",
       "14    15       Jafar David Murugan A    Male  110    70.0   180.0\n",
       "15    16         Lily Jasmin Durga I  Female   35   110.0   199.0\n",
       "16    17             Victoria Rani N  Female   58    87.0   173.0\n",
       "17    18               Karthikeyan L    Male   44   150.0   130.0\n",
       "18    19                Diya Aruna K  Female   34   130.0   197.0\n",
       "19    20            Amala Santhiya S  Female   59    87.0   180.0\n",
       "20    21                 Mei Mohan R    Male   25    76.0   176.0\n",
       "21    22               Nitra Meena H  Female   70    57.0   217.0\n",
       "22    23             Edwin Starjan D    Male   12    32.0   130.0\n",
       "23    24            Divya Bharadhi M  Female   27    60.0   169.0\n",
       "24    25              Deepika Mary R  Female   75    49.0   147.0\n",
       "25    26        Ezhil Manna Frindo U    Male   95   113.0   189.0\n",
       "26    27       Infant Ismail Hasan J    Male  115    90.0   174.0\n",
       "27    28               Jerlin Jepa F  Female   35    69.0   160.0\n",
       "28    29                 Alex Anto C    Male   25    97.0   190.0\n",
       "29    30         Joni Santhosh Raj J    Male   27    79.0   179.0\n",
       "30    31               Esther Mary S  Female   23    73.0   189.0\n",
       "31    32       Julian Kural Ovien K     Male   26    89.0   198.0\n",
       "32    33                    Pushpa O  Female   31    77.0   189.0\n",
       "33    34    Antony Manibal Shareef B    Male   28   118.0   220.0\n",
       "34    35              Dinesh Kumar R    Male   80    96.0   190.0>"
      ]
     },
     "execution_count": 65,
     "metadata": {},
     "output_type": "execute_result"
    }
   ],
   "source": [
    "bk_29.info"
   ]
  },
  {
   "cell_type": "code",
   "execution_count": 66,
   "id": "125ecd9b",
   "metadata": {},
   "outputs": [
    {
     "name": "stdout",
     "output_type": "stream",
     "text": [
      "<class 'pandas.core.frame.DataFrame'>\n",
      "RangeIndex: 35 entries, 0 to 34\n",
      "Data columns (total 6 columns):\n",
      " #   Column  Non-Null Count  Dtype  \n",
      "---  ------  --------------  -----  \n",
      " 0   S.No    35 non-null     int64  \n",
      " 1   Name    35 non-null     object \n",
      " 2   Gender  35 non-null     object \n",
      " 3   Age     35 non-null     int64  \n",
      " 4   Weight  34 non-null     float64\n",
      " 5   Height  34 non-null     float64\n",
      "dtypes: float64(2), int64(2), object(2)\n",
      "memory usage: 1.8+ KB\n"
     ]
    }
   ],
   "source": [
    "bk_29.info()"
   ]
  },
  {
   "cell_type": "code",
   "execution_count": 67,
   "id": "cfb38217",
   "metadata": {},
   "outputs": [
    {
     "data": {
      "text/html": [
       "<div>\n",
       "<style scoped>\n",
       "    .dataframe tbody tr th:only-of-type {\n",
       "        vertical-align: middle;\n",
       "    }\n",
       "\n",
       "    .dataframe tbody tr th {\n",
       "        vertical-align: top;\n",
       "    }\n",
       "\n",
       "    .dataframe thead th {\n",
       "        text-align: right;\n",
       "    }\n",
       "</style>\n",
       "<table border=\"1\" class=\"dataframe\">\n",
       "  <thead>\n",
       "    <tr style=\"text-align: right;\">\n",
       "      <th></th>\n",
       "      <th>S.No</th>\n",
       "      <th>Age</th>\n",
       "      <th>Weight</th>\n",
       "      <th>Height</th>\n",
       "    </tr>\n",
       "  </thead>\n",
       "  <tbody>\n",
       "    <tr>\n",
       "      <th>count</th>\n",
       "      <td>35.000000</td>\n",
       "      <td>35.000000</td>\n",
       "      <td>34.000000</td>\n",
       "      <td>34.000000</td>\n",
       "    </tr>\n",
       "    <tr>\n",
       "      <th>mean</th>\n",
       "      <td>18.000000</td>\n",
       "      <td>47.714286</td>\n",
       "      <td>80.705882</td>\n",
       "      <td>176.558824</td>\n",
       "    </tr>\n",
       "    <tr>\n",
       "      <th>std</th>\n",
       "      <td>10.246951</td>\n",
       "      <td>28.181733</td>\n",
       "      <td>26.870655</td>\n",
       "      <td>22.082752</td>\n",
       "    </tr>\n",
       "    <tr>\n",
       "      <th>min</th>\n",
       "      <td>1.000000</td>\n",
       "      <td>12.000000</td>\n",
       "      <td>28.000000</td>\n",
       "      <td>130.000000</td>\n",
       "    </tr>\n",
       "    <tr>\n",
       "      <th>25%</th>\n",
       "      <td>9.500000</td>\n",
       "      <td>26.500000</td>\n",
       "      <td>60.250000</td>\n",
       "      <td>165.000000</td>\n",
       "    </tr>\n",
       "    <tr>\n",
       "      <th>50%</th>\n",
       "      <td>18.000000</td>\n",
       "      <td>35.000000</td>\n",
       "      <td>79.500000</td>\n",
       "      <td>179.500000</td>\n",
       "    </tr>\n",
       "    <tr>\n",
       "      <th>75%</th>\n",
       "      <td>26.500000</td>\n",
       "      <td>66.500000</td>\n",
       "      <td>95.750000</td>\n",
       "      <td>190.000000</td>\n",
       "    </tr>\n",
       "    <tr>\n",
       "      <th>max</th>\n",
       "      <td>35.000000</td>\n",
       "      <td>115.000000</td>\n",
       "      <td>150.000000</td>\n",
       "      <td>220.000000</td>\n",
       "    </tr>\n",
       "  </tbody>\n",
       "</table>\n",
       "</div>"
      ],
      "text/plain": [
       "            S.No         Age      Weight      Height\n",
       "count  35.000000   35.000000   34.000000   34.000000\n",
       "mean   18.000000   47.714286   80.705882  176.558824\n",
       "std    10.246951   28.181733   26.870655   22.082752\n",
       "min     1.000000   12.000000   28.000000  130.000000\n",
       "25%     9.500000   26.500000   60.250000  165.000000\n",
       "50%    18.000000   35.000000   79.500000  179.500000\n",
       "75%    26.500000   66.500000   95.750000  190.000000\n",
       "max    35.000000  115.000000  150.000000  220.000000"
      ]
     },
     "execution_count": 67,
     "metadata": {},
     "output_type": "execute_result"
    }
   ],
   "source": [
    "bk_29.describe()"
   ]
  },
  {
   "cell_type": "code",
   "execution_count": 68,
   "id": "e3999d34",
   "metadata": {},
   "outputs": [
    {
     "data": {
      "text/plain": [
       "<bound method DataFrame.isnull of     S.No                        Name  Gender  Age  Weight  Height\n",
       "0      1  Muhammad Fernado Ganesan K    Male   85    87.0   190.0\n",
       "1      2                 Berchmans S    Male   23    80.0   180.0\n",
       "2      3               Jacksparrow P    Male   62     NaN   168.0\n",
       "3      4       Mia Elizabeth Ruby D   Female   20    56.0     NaN\n",
       "4      5          Catherine Lolita G  Female   30    53.0   150.0\n",
       "5      6                Johny Depp T    Male   54   110.0   159.0\n",
       "6      7                     Velan R    Male   13    28.0   140.0\n",
       "7      8             Jothika Jancy W  Female   43    88.0   164.0\n",
       "8      9                  Vimalkan G    Male   65    95.0   175.0\n",
       "9     10                      Devi T  Female   19    60.0   146.0\n",
       "10    11                     Priya V  Female   68   100.0   190.0\n",
       "11    12                Jaya Surya F    Male   90    61.0   205.0\n",
       "12    13           Andrew Princily B  Female   28    45.0   185.0\n",
       "13    14                     Zafir E    Male   36    72.0   175.0\n",
       "14    15       Jafar David Murugan A    Male  110    70.0   180.0\n",
       "15    16         Lily Jasmin Durga I  Female   35   110.0   199.0\n",
       "16    17             Victoria Rani N  Female   58    87.0   173.0\n",
       "17    18               Karthikeyan L    Male   44   150.0   130.0\n",
       "18    19                Diya Aruna K  Female   34   130.0   197.0\n",
       "19    20            Amala Santhiya S  Female   59    87.0   180.0\n",
       "20    21                 Mei Mohan R    Male   25    76.0   176.0\n",
       "21    22               Nitra Meena H  Female   70    57.0   217.0\n",
       "22    23             Edwin Starjan D    Male   12    32.0   130.0\n",
       "23    24            Divya Bharadhi M  Female   27    60.0   169.0\n",
       "24    25              Deepika Mary R  Female   75    49.0   147.0\n",
       "25    26        Ezhil Manna Frindo U    Male   95   113.0   189.0\n",
       "26    27       Infant Ismail Hasan J    Male  115    90.0   174.0\n",
       "27    28               Jerlin Jepa F  Female   35    69.0   160.0\n",
       "28    29                 Alex Anto C    Male   25    97.0   190.0\n",
       "29    30         Joni Santhosh Raj J    Male   27    79.0   179.0\n",
       "30    31               Esther Mary S  Female   23    73.0   189.0\n",
       "31    32       Julian Kural Ovien K     Male   26    89.0   198.0\n",
       "32    33                    Pushpa O  Female   31    77.0   189.0\n",
       "33    34    Antony Manibal Shareef B    Male   28   118.0   220.0\n",
       "34    35              Dinesh Kumar R    Male   80    96.0   190.0>"
      ]
     },
     "execution_count": 68,
     "metadata": {},
     "output_type": "execute_result"
    }
   ],
   "source": [
    "bk_29.isnull"
   ]
  },
  {
   "cell_type": "code",
   "execution_count": 69,
   "id": "327d6e46",
   "metadata": {},
   "outputs": [
    {
     "data": {
      "text/plain": [
       "S.No      0\n",
       "Name      0\n",
       "Gender    0\n",
       "Age       0\n",
       "Weight    1\n",
       "Height    1\n",
       "dtype: int64"
      ]
     },
     "execution_count": 69,
     "metadata": {},
     "output_type": "execute_result"
    }
   ],
   "source": [
    "bk_29.isnull().sum()"
   ]
  },
  {
   "cell_type": "code",
   "execution_count": 70,
   "id": "e4557453",
   "metadata": {},
   "outputs": [
    {
     "data": {
      "text/plain": [
       "2"
      ]
     },
     "execution_count": 70,
     "metadata": {},
     "output_type": "execute_result"
    }
   ],
   "source": [
    "bk_29.isnull().values.sum()"
   ]
  },
  {
   "cell_type": "code",
   "execution_count": 71,
   "id": "925c3e54",
   "metadata": {},
   "outputs": [
    {
     "data": {
      "text/html": [
       "<div>\n",
       "<style scoped>\n",
       "    .dataframe tbody tr th:only-of-type {\n",
       "        vertical-align: middle;\n",
       "    }\n",
       "\n",
       "    .dataframe tbody tr th {\n",
       "        vertical-align: top;\n",
       "    }\n",
       "\n",
       "    .dataframe thead th {\n",
       "        text-align: right;\n",
       "    }\n",
       "</style>\n",
       "<table border=\"1\" class=\"dataframe\">\n",
       "  <thead>\n",
       "    <tr style=\"text-align: right;\">\n",
       "      <th></th>\n",
       "      <th>S.No</th>\n",
       "      <th>Name</th>\n",
       "      <th>Gender</th>\n",
       "      <th>Age</th>\n",
       "      <th>Weight</th>\n",
       "      <th>Height</th>\n",
       "    </tr>\n",
       "  </thead>\n",
       "  <tbody>\n",
       "    <tr>\n",
       "      <th>0</th>\n",
       "      <td>1</td>\n",
       "      <td>Muhammad Fernado Ganesan K</td>\n",
       "      <td>Male</td>\n",
       "      <td>85</td>\n",
       "      <td>87.0</td>\n",
       "      <td>190.0</td>\n",
       "    </tr>\n",
       "    <tr>\n",
       "      <th>1</th>\n",
       "      <td>2</td>\n",
       "      <td>Berchmans S</td>\n",
       "      <td>Male</td>\n",
       "      <td>23</td>\n",
       "      <td>80.0</td>\n",
       "      <td>180.0</td>\n",
       "    </tr>\n",
       "    <tr>\n",
       "      <th>2</th>\n",
       "      <td>3</td>\n",
       "      <td>Jacksparrow P</td>\n",
       "      <td>Male</td>\n",
       "      <td>62</td>\n",
       "      <td>56.0</td>\n",
       "      <td>168.0</td>\n",
       "    </tr>\n",
       "    <tr>\n",
       "      <th>3</th>\n",
       "      <td>4</td>\n",
       "      <td>Mia Elizabeth Ruby D</td>\n",
       "      <td>Female</td>\n",
       "      <td>20</td>\n",
       "      <td>56.0</td>\n",
       "      <td>150.0</td>\n",
       "    </tr>\n",
       "    <tr>\n",
       "      <th>4</th>\n",
       "      <td>5</td>\n",
       "      <td>Catherine Lolita G</td>\n",
       "      <td>Female</td>\n",
       "      <td>30</td>\n",
       "      <td>53.0</td>\n",
       "      <td>150.0</td>\n",
       "    </tr>\n",
       "    <tr>\n",
       "      <th>5</th>\n",
       "      <td>6</td>\n",
       "      <td>Johny Depp T</td>\n",
       "      <td>Male</td>\n",
       "      <td>54</td>\n",
       "      <td>110.0</td>\n",
       "      <td>159.0</td>\n",
       "    </tr>\n",
       "    <tr>\n",
       "      <th>6</th>\n",
       "      <td>7</td>\n",
       "      <td>Velan R</td>\n",
       "      <td>Male</td>\n",
       "      <td>13</td>\n",
       "      <td>28.0</td>\n",
       "      <td>140.0</td>\n",
       "    </tr>\n",
       "    <tr>\n",
       "      <th>7</th>\n",
       "      <td>8</td>\n",
       "      <td>Jothika Jancy W</td>\n",
       "      <td>Female</td>\n",
       "      <td>43</td>\n",
       "      <td>88.0</td>\n",
       "      <td>164.0</td>\n",
       "    </tr>\n",
       "    <tr>\n",
       "      <th>8</th>\n",
       "      <td>9</td>\n",
       "      <td>Vimalkan G</td>\n",
       "      <td>Male</td>\n",
       "      <td>65</td>\n",
       "      <td>95.0</td>\n",
       "      <td>175.0</td>\n",
       "    </tr>\n",
       "    <tr>\n",
       "      <th>9</th>\n",
       "      <td>10</td>\n",
       "      <td>Devi T</td>\n",
       "      <td>Female</td>\n",
       "      <td>19</td>\n",
       "      <td>60.0</td>\n",
       "      <td>146.0</td>\n",
       "    </tr>\n",
       "    <tr>\n",
       "      <th>10</th>\n",
       "      <td>11</td>\n",
       "      <td>Priya V</td>\n",
       "      <td>Female</td>\n",
       "      <td>68</td>\n",
       "      <td>100.0</td>\n",
       "      <td>190.0</td>\n",
       "    </tr>\n",
       "    <tr>\n",
       "      <th>11</th>\n",
       "      <td>12</td>\n",
       "      <td>Jaya Surya F</td>\n",
       "      <td>Male</td>\n",
       "      <td>90</td>\n",
       "      <td>61.0</td>\n",
       "      <td>205.0</td>\n",
       "    </tr>\n",
       "    <tr>\n",
       "      <th>12</th>\n",
       "      <td>13</td>\n",
       "      <td>Andrew Princily B</td>\n",
       "      <td>Female</td>\n",
       "      <td>28</td>\n",
       "      <td>45.0</td>\n",
       "      <td>185.0</td>\n",
       "    </tr>\n",
       "    <tr>\n",
       "      <th>13</th>\n",
       "      <td>14</td>\n",
       "      <td>Zafir E</td>\n",
       "      <td>Male</td>\n",
       "      <td>36</td>\n",
       "      <td>72.0</td>\n",
       "      <td>175.0</td>\n",
       "    </tr>\n",
       "    <tr>\n",
       "      <th>14</th>\n",
       "      <td>15</td>\n",
       "      <td>Jafar David Murugan A</td>\n",
       "      <td>Male</td>\n",
       "      <td>110</td>\n",
       "      <td>70.0</td>\n",
       "      <td>180.0</td>\n",
       "    </tr>\n",
       "    <tr>\n",
       "      <th>15</th>\n",
       "      <td>16</td>\n",
       "      <td>Lily Jasmin Durga I</td>\n",
       "      <td>Female</td>\n",
       "      <td>35</td>\n",
       "      <td>110.0</td>\n",
       "      <td>199.0</td>\n",
       "    </tr>\n",
       "    <tr>\n",
       "      <th>16</th>\n",
       "      <td>17</td>\n",
       "      <td>Victoria Rani N</td>\n",
       "      <td>Female</td>\n",
       "      <td>58</td>\n",
       "      <td>87.0</td>\n",
       "      <td>173.0</td>\n",
       "    </tr>\n",
       "    <tr>\n",
       "      <th>17</th>\n",
       "      <td>18</td>\n",
       "      <td>Karthikeyan L</td>\n",
       "      <td>Male</td>\n",
       "      <td>44</td>\n",
       "      <td>150.0</td>\n",
       "      <td>130.0</td>\n",
       "    </tr>\n",
       "    <tr>\n",
       "      <th>18</th>\n",
       "      <td>19</td>\n",
       "      <td>Diya Aruna K</td>\n",
       "      <td>Female</td>\n",
       "      <td>34</td>\n",
       "      <td>130.0</td>\n",
       "      <td>197.0</td>\n",
       "    </tr>\n",
       "    <tr>\n",
       "      <th>19</th>\n",
       "      <td>20</td>\n",
       "      <td>Amala Santhiya S</td>\n",
       "      <td>Female</td>\n",
       "      <td>59</td>\n",
       "      <td>87.0</td>\n",
       "      <td>180.0</td>\n",
       "    </tr>\n",
       "    <tr>\n",
       "      <th>20</th>\n",
       "      <td>21</td>\n",
       "      <td>Mei Mohan R</td>\n",
       "      <td>Male</td>\n",
       "      <td>25</td>\n",
       "      <td>76.0</td>\n",
       "      <td>176.0</td>\n",
       "    </tr>\n",
       "    <tr>\n",
       "      <th>21</th>\n",
       "      <td>22</td>\n",
       "      <td>Nitra Meena H</td>\n",
       "      <td>Female</td>\n",
       "      <td>70</td>\n",
       "      <td>57.0</td>\n",
       "      <td>217.0</td>\n",
       "    </tr>\n",
       "    <tr>\n",
       "      <th>22</th>\n",
       "      <td>23</td>\n",
       "      <td>Edwin Starjan D</td>\n",
       "      <td>Male</td>\n",
       "      <td>12</td>\n",
       "      <td>32.0</td>\n",
       "      <td>130.0</td>\n",
       "    </tr>\n",
       "    <tr>\n",
       "      <th>23</th>\n",
       "      <td>24</td>\n",
       "      <td>Divya Bharadhi M</td>\n",
       "      <td>Female</td>\n",
       "      <td>27</td>\n",
       "      <td>60.0</td>\n",
       "      <td>169.0</td>\n",
       "    </tr>\n",
       "    <tr>\n",
       "      <th>24</th>\n",
       "      <td>25</td>\n",
       "      <td>Deepika Mary R</td>\n",
       "      <td>Female</td>\n",
       "      <td>75</td>\n",
       "      <td>49.0</td>\n",
       "      <td>147.0</td>\n",
       "    </tr>\n",
       "    <tr>\n",
       "      <th>25</th>\n",
       "      <td>26</td>\n",
       "      <td>Ezhil Manna Frindo U</td>\n",
       "      <td>Male</td>\n",
       "      <td>95</td>\n",
       "      <td>113.0</td>\n",
       "      <td>189.0</td>\n",
       "    </tr>\n",
       "    <tr>\n",
       "      <th>26</th>\n",
       "      <td>27</td>\n",
       "      <td>Infant Ismail Hasan J</td>\n",
       "      <td>Male</td>\n",
       "      <td>115</td>\n",
       "      <td>90.0</td>\n",
       "      <td>174.0</td>\n",
       "    </tr>\n",
       "    <tr>\n",
       "      <th>27</th>\n",
       "      <td>28</td>\n",
       "      <td>Jerlin Jepa F</td>\n",
       "      <td>Female</td>\n",
       "      <td>35</td>\n",
       "      <td>69.0</td>\n",
       "      <td>160.0</td>\n",
       "    </tr>\n",
       "    <tr>\n",
       "      <th>28</th>\n",
       "      <td>29</td>\n",
       "      <td>Alex Anto C</td>\n",
       "      <td>Male</td>\n",
       "      <td>25</td>\n",
       "      <td>97.0</td>\n",
       "      <td>190.0</td>\n",
       "    </tr>\n",
       "    <tr>\n",
       "      <th>29</th>\n",
       "      <td>30</td>\n",
       "      <td>Joni Santhosh Raj J</td>\n",
       "      <td>Male</td>\n",
       "      <td>27</td>\n",
       "      <td>79.0</td>\n",
       "      <td>179.0</td>\n",
       "    </tr>\n",
       "    <tr>\n",
       "      <th>30</th>\n",
       "      <td>31</td>\n",
       "      <td>Esther Mary S</td>\n",
       "      <td>Female</td>\n",
       "      <td>23</td>\n",
       "      <td>73.0</td>\n",
       "      <td>189.0</td>\n",
       "    </tr>\n",
       "    <tr>\n",
       "      <th>31</th>\n",
       "      <td>32</td>\n",
       "      <td>Julian Kural Ovien K</td>\n",
       "      <td>Male</td>\n",
       "      <td>26</td>\n",
       "      <td>89.0</td>\n",
       "      <td>198.0</td>\n",
       "    </tr>\n",
       "    <tr>\n",
       "      <th>32</th>\n",
       "      <td>33</td>\n",
       "      <td>Pushpa O</td>\n",
       "      <td>Female</td>\n",
       "      <td>31</td>\n",
       "      <td>77.0</td>\n",
       "      <td>189.0</td>\n",
       "    </tr>\n",
       "    <tr>\n",
       "      <th>33</th>\n",
       "      <td>34</td>\n",
       "      <td>Antony Manibal Shareef B</td>\n",
       "      <td>Male</td>\n",
       "      <td>28</td>\n",
       "      <td>118.0</td>\n",
       "      <td>220.0</td>\n",
       "    </tr>\n",
       "    <tr>\n",
       "      <th>34</th>\n",
       "      <td>35</td>\n",
       "      <td>Dinesh Kumar R</td>\n",
       "      <td>Male</td>\n",
       "      <td>80</td>\n",
       "      <td>96.0</td>\n",
       "      <td>190.0</td>\n",
       "    </tr>\n",
       "  </tbody>\n",
       "</table>\n",
       "</div>"
      ],
      "text/plain": [
       "    S.No                        Name  Gender  Age  Weight  Height\n",
       "0      1  Muhammad Fernado Ganesan K    Male   85    87.0   190.0\n",
       "1      2                 Berchmans S    Male   23    80.0   180.0\n",
       "2      3               Jacksparrow P    Male   62    56.0   168.0\n",
       "3      4       Mia Elizabeth Ruby D   Female   20    56.0   150.0\n",
       "4      5          Catherine Lolita G  Female   30    53.0   150.0\n",
       "5      6                Johny Depp T    Male   54   110.0   159.0\n",
       "6      7                     Velan R    Male   13    28.0   140.0\n",
       "7      8             Jothika Jancy W  Female   43    88.0   164.0\n",
       "8      9                  Vimalkan G    Male   65    95.0   175.0\n",
       "9     10                      Devi T  Female   19    60.0   146.0\n",
       "10    11                     Priya V  Female   68   100.0   190.0\n",
       "11    12                Jaya Surya F    Male   90    61.0   205.0\n",
       "12    13           Andrew Princily B  Female   28    45.0   185.0\n",
       "13    14                     Zafir E    Male   36    72.0   175.0\n",
       "14    15       Jafar David Murugan A    Male  110    70.0   180.0\n",
       "15    16         Lily Jasmin Durga I  Female   35   110.0   199.0\n",
       "16    17             Victoria Rani N  Female   58    87.0   173.0\n",
       "17    18               Karthikeyan L    Male   44   150.0   130.0\n",
       "18    19                Diya Aruna K  Female   34   130.0   197.0\n",
       "19    20            Amala Santhiya S  Female   59    87.0   180.0\n",
       "20    21                 Mei Mohan R    Male   25    76.0   176.0\n",
       "21    22               Nitra Meena H  Female   70    57.0   217.0\n",
       "22    23             Edwin Starjan D    Male   12    32.0   130.0\n",
       "23    24            Divya Bharadhi M  Female   27    60.0   169.0\n",
       "24    25              Deepika Mary R  Female   75    49.0   147.0\n",
       "25    26        Ezhil Manna Frindo U    Male   95   113.0   189.0\n",
       "26    27       Infant Ismail Hasan J    Male  115    90.0   174.0\n",
       "27    28               Jerlin Jepa F  Female   35    69.0   160.0\n",
       "28    29                 Alex Anto C    Male   25    97.0   190.0\n",
       "29    30         Joni Santhosh Raj J    Male   27    79.0   179.0\n",
       "30    31               Esther Mary S  Female   23    73.0   189.0\n",
       "31    32       Julian Kural Ovien K     Male   26    89.0   198.0\n",
       "32    33                    Pushpa O  Female   31    77.0   189.0\n",
       "33    34    Antony Manibal Shareef B    Male   28   118.0   220.0\n",
       "34    35              Dinesh Kumar R    Male   80    96.0   190.0"
      ]
     },
     "execution_count": 71,
     "metadata": {},
     "output_type": "execute_result"
    }
   ],
   "source": [
    "e = bk_29.bfill(axis=0)\n",
    "e"
   ]
  },
  {
   "cell_type": "code",
   "execution_count": 72,
   "id": "1d81143e",
   "metadata": {},
   "outputs": [
    {
     "data": {
      "text/plain": [
       "0"
      ]
     },
     "execution_count": 72,
     "metadata": {},
     "output_type": "execute_result"
    }
   ],
   "source": [
    "e.isnull().values.sum()"
   ]
  },
  {
   "cell_type": "markdown",
   "id": "885beb2b",
   "metadata": {},
   "source": [
    "## Normalization"
   ]
  },
  {
   "cell_type": "code",
   "execution_count": 73,
   "id": "059239cd",
   "metadata": {},
   "outputs": [
    {
     "data": {
      "text/plain": [
       "array([[0.66666667, 0.48360656],\n",
       "       [0.55555556, 0.42622951],\n",
       "       [0.42222222, 0.2295082 ],\n",
       "       [0.22222222, 0.2295082 ],\n",
       "       [0.22222222, 0.20491803],\n",
       "       [0.32222222, 0.67213115],\n",
       "       [0.11111111, 0.        ],\n",
       "       [0.37777778, 0.49180328],\n",
       "       [0.5       , 0.54918033],\n",
       "       [0.17777778, 0.26229508],\n",
       "       [0.66666667, 0.59016393],\n",
       "       [0.83333333, 0.2704918 ],\n",
       "       [0.61111111, 0.13934426],\n",
       "       [0.5       , 0.36065574],\n",
       "       [0.55555556, 0.3442623 ],\n",
       "       [0.76666667, 0.67213115],\n",
       "       [0.47777778, 0.48360656],\n",
       "       [0.        , 1.        ],\n",
       "       [0.74444444, 0.83606557],\n",
       "       [0.55555556, 0.48360656],\n",
       "       [0.51111111, 0.39344262],\n",
       "       [0.96666667, 0.23770492],\n",
       "       [0.        , 0.03278689],\n",
       "       [0.43333333, 0.26229508],\n",
       "       [0.18888889, 0.17213115],\n",
       "       [0.65555556, 0.69672131],\n",
       "       [0.48888889, 0.50819672],\n",
       "       [0.33333333, 0.33606557],\n",
       "       [0.66666667, 0.56557377],\n",
       "       [0.54444444, 0.41803279],\n",
       "       [0.65555556, 0.36885246],\n",
       "       [0.75555556, 0.5       ],\n",
       "       [0.65555556, 0.40163934],\n",
       "       [1.        , 0.73770492],\n",
       "       [0.66666667, 0.55737705]])"
      ]
     },
     "execution_count": 73,
     "metadata": {},
     "output_type": "execute_result"
    }
   ],
   "source": [
    "from sklearn.preprocessing import MinMaxScaler\n",
    "\n",
    "norm1 = MinMaxScaler()\n",
    "\n",
    "norm1.fit_transform(e[['Height','Weight']])"
   ]
  },
  {
   "cell_type": "code",
   "execution_count": null,
   "id": "a079a55a",
   "metadata": {},
   "outputs": [],
   "source": []
  }
 ],
 "metadata": {
  "kernelspec": {
   "display_name": "Python 3",
   "language": "python",
   "name": "python3"
  },
  "language_info": {
   "codemirror_mode": {
    "name": "ipython",
    "version": 3
   },
   "file_extension": ".py",
   "mimetype": "text/x-python",
   "name": "python",
   "nbconvert_exporter": "python",
   "pygments_lexer": "ipython3",
   "version": "3.8.8"
  }
 },
 "nbformat": 4,
 "nbformat_minor": 5
}
